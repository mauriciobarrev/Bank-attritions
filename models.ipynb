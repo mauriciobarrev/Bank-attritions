{
 "cells": [
  {
   "cell_type": "markdown",
   "id": "7b8f17c8",
   "metadata": {},
   "source": [
    "I'll generate different models applying on the dataset created with the feature engineering, PCA data with 3 components and balanced data."
   ]
  },
  {
   "cell_type": "code",
   "execution_count": 1,
   "id": "d5efb434",
   "metadata": {},
   "outputs": [],
   "source": [
    "import pandas as pd\n",
    "import numpy as np\n",
    "import matplotlib.pyplot as plt\n",
    "import seaborn as sns\n",
    "\n",
    "from sklearn.preprocessing import StandardScaler\n",
    "\n",
    "# some models to compare\n",
    "from sklearn.linear_model import LogisticRegression\n",
    "from sklearn.tree import DecisionTreeClassifier\n",
    "from sklearn.ensemble import RandomForestClassifier\n",
    "from sklearn.neighbors import KNeighborsClassifier\n",
    "\n",
    "from sklearn.model_selection import train_test_split\n",
    "from sklearn.metrics import accuracy_score"
   ]
  },
  {
   "cell_type": "code",
   "execution_count": 2,
   "id": "1d002d94",
   "metadata": {},
   "outputs": [],
   "source": [
    "dir_in = \"C:/Users/barre/Desktop/Machine Learning/projects/bank/in/{}\""
   ]
  },
  {
   "cell_type": "code",
   "execution_count": 3,
   "id": "063b5c31",
   "metadata": {},
   "outputs": [],
   "source": [
    "df = pd.read_csv(dir_in.format('data_selection.csv'))\n",
    "df_balanced = pd.read_csv(dir_in.format('data_balanced.csv'))\n",
    "df_pca = pd.read_csv(dir_in.format('data_pca.csv')) "
   ]
  },
  {
   "cell_type": "code",
   "execution_count": 4,
   "id": "f6b82e2f",
   "metadata": {},
   "outputs": [
    {
     "data": {
      "text/html": [
       "<div>\n",
       "<style scoped>\n",
       "    .dataframe tbody tr th:only-of-type {\n",
       "        vertical-align: middle;\n",
       "    }\n",
       "\n",
       "    .dataframe tbody tr th {\n",
       "        vertical-align: top;\n",
       "    }\n",
       "\n",
       "    .dataframe thead th {\n",
       "        text-align: right;\n",
       "    }\n",
       "</style>\n",
       "<table border=\"1\" class=\"dataframe\">\n",
       "  <thead>\n",
       "    <tr style=\"text-align: right;\">\n",
       "      <th></th>\n",
       "      <th>Total_Trans_Ct</th>\n",
       "      <th>Total_Revolving_Bal</th>\n",
       "      <th>Total_Relationship_Count</th>\n",
       "      <th>Months_Inactive_12_mon</th>\n",
       "      <th>Target</th>\n",
       "    </tr>\n",
       "  </thead>\n",
       "  <tbody>\n",
       "    <tr>\n",
       "      <th>0</th>\n",
       "      <td>42</td>\n",
       "      <td>777</td>\n",
       "      <td>5</td>\n",
       "      <td>1</td>\n",
       "      <td>1</td>\n",
       "    </tr>\n",
       "    <tr>\n",
       "      <th>1</th>\n",
       "      <td>33</td>\n",
       "      <td>864</td>\n",
       "      <td>6</td>\n",
       "      <td>1</td>\n",
       "      <td>1</td>\n",
       "    </tr>\n",
       "  </tbody>\n",
       "</table>\n",
       "</div>"
      ],
      "text/plain": [
       "   Total_Trans_Ct  Total_Revolving_Bal  Total_Relationship_Count  \\\n",
       "0              42                  777                         5   \n",
       "1              33                  864                         6   \n",
       "\n",
       "   Months_Inactive_12_mon  Target  \n",
       "0                       1       1  \n",
       "1                       1       1  "
      ]
     },
     "execution_count": 4,
     "metadata": {},
     "output_type": "execute_result"
    }
   ],
   "source": [
    "df.head(2)"
   ]
  },
  {
   "cell_type": "code",
   "execution_count": 5,
   "id": "7355819c",
   "metadata": {},
   "outputs": [
    {
     "data": {
      "text/html": [
       "<div>\n",
       "<style scoped>\n",
       "    .dataframe tbody tr th:only-of-type {\n",
       "        vertical-align: middle;\n",
       "    }\n",
       "\n",
       "    .dataframe tbody tr th {\n",
       "        vertical-align: top;\n",
       "    }\n",
       "\n",
       "    .dataframe thead th {\n",
       "        text-align: right;\n",
       "    }\n",
       "</style>\n",
       "<table border=\"1\" class=\"dataframe\">\n",
       "  <thead>\n",
       "    <tr style=\"text-align: right;\">\n",
       "      <th></th>\n",
       "      <th>Total_Trans_Ct</th>\n",
       "      <th>Total_Revolving_Bal</th>\n",
       "      <th>Total_Relationship_Count</th>\n",
       "      <th>Months_Inactive_12_mon</th>\n",
       "      <th>Target</th>\n",
       "    </tr>\n",
       "  </thead>\n",
       "  <tbody>\n",
       "    <tr>\n",
       "      <th>0</th>\n",
       "      <td>42</td>\n",
       "      <td>777</td>\n",
       "      <td>5</td>\n",
       "      <td>1</td>\n",
       "      <td>1</td>\n",
       "    </tr>\n",
       "    <tr>\n",
       "      <th>1</th>\n",
       "      <td>33</td>\n",
       "      <td>864</td>\n",
       "      <td>6</td>\n",
       "      <td>1</td>\n",
       "      <td>1</td>\n",
       "    </tr>\n",
       "  </tbody>\n",
       "</table>\n",
       "</div>"
      ],
      "text/plain": [
       "   Total_Trans_Ct  Total_Revolving_Bal  Total_Relationship_Count  \\\n",
       "0              42                  777                         5   \n",
       "1              33                  864                         6   \n",
       "\n",
       "   Months_Inactive_12_mon  Target  \n",
       "0                       1       1  \n",
       "1                       1       1  "
      ]
     },
     "execution_count": 5,
     "metadata": {},
     "output_type": "execute_result"
    }
   ],
   "source": [
    "df_balanced.head(2)"
   ]
  },
  {
   "cell_type": "code",
   "execution_count": 6,
   "id": "226f8d16",
   "metadata": {},
   "outputs": [
    {
     "data": {
      "text/html": [
       "<div>\n",
       "<style scoped>\n",
       "    .dataframe tbody tr th:only-of-type {\n",
       "        vertical-align: middle;\n",
       "    }\n",
       "\n",
       "    .dataframe tbody tr th {\n",
       "        vertical-align: top;\n",
       "    }\n",
       "\n",
       "    .dataframe thead th {\n",
       "        text-align: right;\n",
       "    }\n",
       "</style>\n",
       "<table border=\"1\" class=\"dataframe\">\n",
       "  <thead>\n",
       "    <tr style=\"text-align: right;\">\n",
       "      <th></th>\n",
       "      <th>f1</th>\n",
       "      <th>f2</th>\n",
       "      <th>f3</th>\n",
       "      <th>Target</th>\n",
       "    </tr>\n",
       "  </thead>\n",
       "  <tbody>\n",
       "    <tr>\n",
       "      <th>0</th>\n",
       "      <td>-1.236407</td>\n",
       "      <td>-0.503494</td>\n",
       "      <td>0.910693</td>\n",
       "      <td>1</td>\n",
       "    </tr>\n",
       "    <tr>\n",
       "      <th>1</th>\n",
       "      <td>-1.827758</td>\n",
       "      <td>-0.191032</td>\n",
       "      <td>1.080123</td>\n",
       "      <td>1</td>\n",
       "    </tr>\n",
       "  </tbody>\n",
       "</table>\n",
       "</div>"
      ],
      "text/plain": [
       "         f1        f2        f3  Target\n",
       "0 -1.236407 -0.503494  0.910693       1\n",
       "1 -1.827758 -0.191032  1.080123       1"
      ]
     },
     "execution_count": 6,
     "metadata": {},
     "output_type": "execute_result"
    }
   ],
   "source": [
    "df_pca.head(2)"
   ]
  },
  {
   "cell_type": "code",
   "execution_count": 7,
   "id": "909f0c9c",
   "metadata": {},
   "outputs": [],
   "source": [
    "# features & target\n",
    "X = df.drop('Target', axis=1)\n",
    "\n",
    "# standarizing data\n",
    "X = StandardScaler().fit_transform(X)\n",
    "y = df['Target']\n",
    "\n",
    "# features & target balanced data\n",
    "X_bal = df_balanced.drop('Target', axis=1)\n",
    "X_bal = StandardScaler().fit_transform(X_bal)\n",
    "y_bal = df_balanced['Target']\n",
    "\n",
    "# features & target PCA\n",
    "X_pca = df_pca.drop('Target', axis=1)\n",
    "y_pca = df_pca['Target']"
   ]
  },
  {
   "cell_type": "code",
   "execution_count": 8,
   "id": "e5084b92",
   "metadata": {},
   "outputs": [],
   "source": [
    "# train & test variables for each dataset\n",
    "X_train, X_test, y_train, y_test = train_test_split(X, y, test_size=0.3, random_state = 42)\n",
    "X_train_bal, X_test_bal, y_train_bal, y_test_bal = train_test_split(X_bal, y_bal, test_size=0.3, random_state = 42)\n",
    "X_train_pca, X_test_pca, y_train_pca, y_test_pca = train_test_split(X_pca, y_pca, test_size=0.3, random_state = 42)"
   ]
  },
  {
   "cell_type": "code",
   "execution_count": 9,
   "id": "923927fd",
   "metadata": {},
   "outputs": [
    {
     "data": {
      "text/plain": [
       "69.99575010624734"
      ]
     },
     "execution_count": 9,
     "metadata": {},
     "output_type": "execute_result"
    }
   ],
   "source": [
    "len(X_train_bal) / len(X_bal) * 100"
   ]
  },
  {
   "cell_type": "markdown",
   "id": "b9bf3190",
   "metadata": {},
   "source": [
    "Let's see a first look with one model on each dataset"
   ]
  },
  {
   "cell_type": "code",
   "execution_count": 10,
   "id": "79e9837f",
   "metadata": {},
   "outputs": [
    {
     "name": "stdout",
     "output_type": "stream",
     "text": [
      "Normal model: 0.9047294998298742\n",
      "Balanced model: 0.928328611898017\n",
      "PCA model: 0.8676420551207894\n"
     ]
    }
   ],
   "source": [
    "rf_model = RandomForestClassifier()\n",
    "rf_model_bal = RandomForestClassifier()\n",
    "rf_model_pca = RandomForestClassifier()\n",
    "\n",
    "\n",
    "rf_model.fit(X_train, y_train)\n",
    "rf_model_bal.fit(X_train_bal, y_train_bal)\n",
    "rf_model_pca.fit(X_train_pca, y_train_pca)\n",
    "\n",
    "y_pred = rf_model.predict(X_test)\n",
    "y_pred_bal = rf_model_bal.predict(X_test_bal)\n",
    "y_pred_pca = rf_model_pca.predict(X_test_pca)\n",
    "\n",
    "print(\"Normal model:\", rf_model.score(X_test, y_test))\n",
    "print(\"Balanced model:\", rf_model_bal.score(X_test_bal, y_test_bal))\n",
    "print(\"PCA model:\", rf_model_pca.score(X_test_pca, y_test_pca))"
   ]
  },
  {
   "cell_type": "markdown",
   "id": "4cb69b97",
   "metadata": {},
   "source": [
    "It seems the model with feature engineering works well, a little improvement with balanced, but low score with PCA data."
   ]
  },
  {
   "cell_type": "markdown",
   "id": "98ea7638",
   "metadata": {},
   "source": [
    "### Modeling with ensembles"
   ]
  },
  {
   "cell_type": "markdown",
   "id": "74adefe2",
   "metadata": {},
   "source": [
    "#### Bagging:"
   ]
  },
  {
   "cell_type": "code",
   "execution_count": 11,
   "id": "9a6e61c1",
   "metadata": {},
   "outputs": [
    {
     "name": "stdout",
     "output_type": "stream",
     "text": [
      "----------------------------------------------------------------\n",
      "Score of KNeighbors model: 0.911 \n",
      "\n",
      " **** Improving with Bagging Ensemble ****\n",
      "Bagging score with KNeighbors model: 0.912 \n",
      "\n",
      "----------------------------------------------------------------\n",
      "Score of LogisticRegression model: 0.884 \n",
      "\n",
      " **** Improving with Bagging Ensemble ****\n",
      "Bagging score with LogisticRegression model: 0.884 \n",
      "\n",
      "----------------------------------------------------------------\n",
      "Score of DecisionTree model: 0.868 \n",
      "\n",
      " **** Improving with Bagging Ensemble ****\n",
      "Bagging score with DecisionTree model: 0.901 \n",
      "\n",
      "----------------------------------------------------------------\n",
      "Score of RandomForest model: 0.908 \n",
      "\n",
      " **** Improving with Bagging Ensemble ****\n",
      "Bagging score with RandomForest model: 0.913 \n",
      "\n"
     ]
    }
   ],
   "source": [
    "from sklearn.ensemble import BaggingClassifier\n",
    "\n",
    "estimators = {\n",
    "        'KNeighbors' : KNeighborsClassifier(),\n",
    "        'LogisticRegression' : LogisticRegression(),\n",
    "        'DecisionTree' : DecisionTreeClassifier(),\n",
    "        'RandomForest' : RandomForestClassifier()\n",
    "    }\n",
    "\n",
    "for name, estimator in estimators.items():\n",
    "        estimator.fit(X_train, y_train)\n",
    "        prediction = estimator.predict(X_test)\n",
    "        print(\"--\" * 32)\n",
    "        print(\n",
    "            f'Score of {name} model: {\"%.3f\" % accuracy_score(prediction, y_test)}',\n",
    "            \"\\n\")\n",
    "        print(\" **** Improving with Bagging Ensemble ****\")\n",
    "\n",
    "        bag_class = BaggingClassifier(base_estimator=estimator,\n",
    "                                      n_estimators=50).fit(X_train, y_train)\n",
    "        bag_pred = bag_class.predict(X_test)\n",
    "\n",
    "        print(\n",
    "            f'Bagging score with {name} model: {\"%.3f\" % accuracy_score(bag_pred, y_test)}',\n",
    "            \"\\n\")"
   ]
  },
  {
   "cell_type": "markdown",
   "id": "64c473bd",
   "metadata": {},
   "source": [
    "KNeighbors and RandomForest are the best models!"
   ]
  },
  {
   "cell_type": "markdown",
   "id": "d7d70da7",
   "metadata": {},
   "source": [
    "#### Boosting:"
   ]
  },
  {
   "cell_type": "code",
   "execution_count": 12,
   "id": "6159ff43",
   "metadata": {},
   "outputs": [
    {
     "name": "stdout",
     "output_type": "stream",
     "text": [
      "Accuracy score: 0.9149370534195305\n"
     ]
    },
    {
     "data": {
      "image/png": "[encoded data removed]",
      "text/plain": [
       "<Figure size 432x288 with 1 Axes>"
      ]
     },
     "metadata": {
      "needs_background": "light"
     },
     "output_type": "display_data"
    }
   ],
   "source": [
    "from sklearn.ensemble import GradientBoostingClassifier\n",
    "\n",
    "for num in range(10, 300, 20):\n",
    "    # How many estimators? We need to change and see, or apply cross validation.\n",
    "    boost = GradientBoostingClassifier(n_estimators=num)\n",
    "    boost.fit(X_train, y_train)\n",
    "    boost_pred = boost.predict(X_test)\n",
    "\n",
    "    plt.plot(num, accuracy_score(boost_pred, y_test), 'o', color='green');\n",
    "    \n",
    "    if num == 290:\n",
    "        print(\"Accuracy score:\", accuracy_score(boost_pred, y_test))\n",
    "\n",
    "plt.title(\"*Data with features selected* \\nBoosting accuracy according to number of estimators\");\n",
    "plt.xlabel(\"Number of estimators\");\n",
    "plt.ylabel(\"Accuracy\");"
   ]
  },
  {
   "cell_type": "markdown",
   "id": "19dd6398",
   "metadata": {},
   "source": [
    "It looks with only 70 estimators we obtain more than 91% of accuracy, more is unnecesary."
   ]
  },
  {
   "cell_type": "code",
   "execution_count": 13,
   "id": "813e9413",
   "metadata": {},
   "outputs": [
    {
     "name": "stdout",
     "output_type": "stream",
     "text": [
      "Accuracy score normal data: 0.9156175569921742\n"
     ]
    }
   ],
   "source": [
    "boost = GradientBoostingClassifier(n_estimators=70)\n",
    "boost.fit(X_train, y_train)\n",
    "boost_pred = boost.predict(X_test)\n",
    "\n",
    "print(\"Accuracy score normal data:\", accuracy_score(boost_pred, y_test))"
   ]
  },
  {
   "cell_type": "code",
   "execution_count": 14,
   "id": "3cffb352",
   "metadata": {},
   "outputs": [
    {
     "name": "stdout",
     "output_type": "stream",
     "text": [
      "Accuracy score balanced data: 0.886685552407932\n"
     ]
    },
    {
     "data": {
      "image/png": "[encoded data removed]",
      "text/plain": [
       "<Figure size 432x288 with 1 Axes>"
      ]
     },
     "metadata": {
      "needs_background": "light"
     },
     "output_type": "display_data"
    }
   ],
   "source": [
    "for num in range(10, 500, 20):\n",
    "    # How many estimators? We need to change and see, or apply techniques with cross validation.\n",
    "    boost = GradientBoostingClassifier(n_estimators=num)\n",
    "    boost.fit(X_train_bal, y_train_bal)\n",
    "    boost_pred = boost.predict(X_test_bal)\n",
    "\n",
    "    plt.plot(num, accuracy_score(boost_pred, y_test_bal), 'o', color='green');\n",
    "    \n",
    "    if num == 290:\n",
    "        print(\"Accuracy score balanced data:\", accuracy_score(boost_pred, y_test_bal))\n",
    "\n",
    "plt.title(\"*Balanced Data* \\nBoosting accuracy according to number of estimators\");\n",
    "plt.xlabel(\"Number of estimators\");\n",
    "plt.ylabel(\"Accuracy\");"
   ]
  },
  {
   "cell_type": "markdown",
   "id": "ee8abdca",
   "metadata": {},
   "source": [
    "Balanced data requires a lot more estimators to have a little improve in our performance..."
   ]
  },
  {
   "cell_type": "markdown",
   "id": "969f79c7",
   "metadata": {},
   "source": [
    "### Improving the model with parametric optimization"
   ]
  },
  {
   "cell_type": "code",
   "execution_count": 15,
   "id": "ac5cfcc1",
   "metadata": {},
   "outputs": [
    {
     "name": "stdout",
     "output_type": "stream",
     "text": [
      "-------- RandomForest unbalanced data --------\n",
      "RandomForestClassifier(max_depth=6, n_estimators=130)\n",
      "{'n_estimators': 130, 'max_depth': 6}\n",
      "best score RandomForest: 0.9152694261138583\n",
      "\n",
      "-------- RandomForest balanced data --------\n",
      "RandomForestClassifier(max_depth=12, n_estimators=60)\n",
      "{'n_estimators': 60, 'max_depth': 12}\n",
      "best score RandomForest: 0.8989678202792956\n"
     ]
    }
   ],
   "source": [
    "from sklearn.model_selection import RandomizedSearchCV\n",
    "\n",
    "rf_model = RandomForestClassifier()\n",
    "\n",
    "rf_parameters = {\n",
    "    'n_estimators' : range(50, 150, 10),\n",
    "    'max_depth' : range(4, 14, 2)\n",
    "}\n",
    "\n",
    "rand_normal = RandomizedSearchCV(rf_model,\n",
    "                                 rf_parameters,\n",
    "                                 n_iter=5,\n",
    "                                 cv=3)\n",
    "\n",
    "rand_bal = RandomizedSearchCV(rf_model,\n",
    "                              rf_parameters,\n",
    "                              n_iter=5,\n",
    "                              cv=3)\n",
    "\n",
    "# Let's see what model works better, balanced or unbalanced\n",
    "rand_normal.fit(X_train, y_train)\n",
    "rand_bal.fit(X_train_bal, y_train_bal)\n",
    "\n",
    "print(\"-------- RandomForest unbalanced data --------\")\n",
    "print(rand_normal.best_estimator_)\n",
    "print(rand_normal.best_params_)\n",
    "print(\"best score RandomForest:\", np.abs(rand_normal.best_score_))\n",
    "\n",
    "print(\"\\n-------- RandomForest balanced data --------\")\n",
    "print(rand_bal.best_estimator_)\n",
    "print(rand_bal.best_params_)\n",
    "print(\"best score RandomForest:\", np.abs(rand_bal.best_score_))"
   ]
  },
  {
   "cell_type": "markdown",
   "id": "41f5d8df",
   "metadata": {},
   "source": [
    "### So... Which one is better?\n",
    "Not everything is score. We need more indicators to check the performance of models..."
   ]
  },
  {
   "cell_type": "markdown",
   "id": "3b84f139",
   "metadata": {},
   "source": [
    "# Confusion Matrix"
   ]
  },
  {
   "cell_type": "code",
   "execution_count": 16,
   "id": "5d340dd1",
   "metadata": {},
   "outputs": [],
   "source": [
    "from sklearn import metrics\n",
    "from sklearn.model_selection import cross_val_score\n",
    "from sklearn.model_selection import cross_val_predict\n",
    "\n",
    "confusion_mtx = metrics.confusion_matrix(y_test, y_pred)\n",
    "confusion_mtx = pd.DataFrame(confusion_mtx)\n",
    "\n",
    "confusion_bal = metrics.confusion_matrix(y_test_bal, y_pred_bal)\n",
    "confusion_bal = pd.DataFrame(confusion_bal)"
   ]
  },
  {
   "cell_type": "code",
   "execution_count": 17,
   "id": "3971ae5a",
   "metadata": {},
   "outputs": [
    {
     "data": {
      "image/png": "[encoded data removed]",
      "text/plain": [
       "<Figure size 432x144 with 2 Axes>"
      ]
     },
     "metadata": {
      "needs_background": "light"
     },
     "output_type": "display_data"
    }
   ],
   "source": [
    "plt.figure(figsize=(6, 2))\n",
    "sns.heatmap(confusion_mtx, annot=True, cmap=\"Blues_r\", fmt='g');\n",
    "\n",
    "plt.title('Confusion Matrix', y=1.1);\n",
    "plt.ylabel('Acual type', size=11, loc=\"center\");\n",
    "plt.yticks([0.3,1.3], labels=['Attrited', 'Existing'], rotation=90, size=8);\n",
    "plt.xlabel('Prediction', size=11);\n",
    "plt.xticks([0.5, 1.5], ['Attrited', 'Existing'], rotation=0, size=8);"
   ]
  },
  {
   "cell_type": "markdown",
   "id": "56e9b8ec",
   "metadata": {},
   "source": [
    "Our model isn't perfect, there's a lot of values that are not recognized, specially on attrited customers. This is because the unbalance."
   ]
  },
  {
   "cell_type": "code",
   "execution_count": 18,
   "id": "559ee8f5",
   "metadata": {},
   "outputs": [
    {
     "data": {
      "image/png": "[encoded data removed]",
      "text/plain": [
       "<Figure size 432x144 with 2 Axes>"
      ]
     },
     "metadata": {
      "needs_background": "light"
     },
     "output_type": "display_data"
    }
   ],
   "source": [
    "plt.figure(figsize=(6, 2))\n",
    "sns.heatmap(confusion_bal, annot=True, cmap=\"Blues_r\", fmt='g');\n",
    "\n",
    "plt.title('Confusion Matrix', y=1.1);\n",
    "plt.ylabel('Acual type', size=11, loc=\"center\");\n",
    "plt.yticks([0.3,1.3], labels=['Attrited', 'Existing'], rotation=90, size=8);\n",
    "plt.xlabel('Prediction', size=11);\n",
    "plt.xticks([0.5, 1.5], ['Attrited', 'Existing'], rotation=0, size=8);"
   ]
  },
  {
   "cell_type": "markdown",
   "id": "901269e2",
   "metadata": {},
   "source": [
    "Let's check precision/recall metrics"
   ]
  },
  {
   "cell_type": "markdown",
   "id": "84dd999c",
   "metadata": {},
   "source": [
    "## Precision/Recall"
   ]
  },
  {
   "cell_type": "code",
   "execution_count": 19,
   "id": "752af4ab",
   "metadata": {},
   "outputs": [
    {
     "data": {
      "text/plain": [
       "178"
      ]
     },
     "execution_count": 19,
     "metadata": {},
     "output_type": "execute_result"
    }
   ],
   "source": [
    "confusion_mtx.loc[0,1]"
   ]
  },
  {
   "cell_type": "code",
   "execution_count": 20,
   "id": "9e9a0d69",
   "metadata": {},
   "outputs": [
    {
     "name": "stdout",
     "output_type": "stream",
     "text": [
      "---- Unbalanced Model ----\n",
      "\n",
      "precision: 0.7468982630272953\n",
      "recall: 0.6283924843423799\n",
      "accuracy: 0.9047294998298742\n",
      "--------------------------------------------\n",
      "F1 score: 0.6825396825396826\n"
     ]
    }
   ],
   "source": [
    "true_positives = confusion_mtx.loc[0,0]\n",
    "false_positives = confusion_mtx.loc[1,0]\n",
    "true_negatives = confusion_mtx.loc[1,1]\n",
    "false_negatives = confusion_mtx.loc[0,1]\n",
    "\n",
    "total_points = true_positives + false_positives + true_negatives + false_negatives\n",
    "\n",
    "precision = true_positives / (true_positives + false_positives)\n",
    "recall = true_positives / (true_positives + false_negatives)\n",
    "accuracy = (true_positives + true_negatives) / (total_points)\n",
    "\n",
    "f1_score = (2*precision*recall / (precision + recall))\n",
    "\n",
    "\n",
    "print(\"---- Unbalanced Model ----\\n\")\n",
    "print(f'precision: {precision}') # total attrited correct / total attrited side obs\n",
    "print(f'recall: {recall}') # total attrited correct / total actual attrited\n",
    "print(f'accuracy: {accuracy}') # 'Total Correct / Total Observations'\n",
    "print(\"--\"*22)\n",
    "print(f'F1 score: {f1_score}')"
   ]
  },
  {
   "cell_type": "code",
   "execution_count": 21,
   "id": "92d1d90d",
   "metadata": {},
   "outputs": [
    {
     "name": "stdout",
     "output_type": "stream",
     "text": [
      "------ Balanced Model ------\n",
      "\n",
      "precision: 0.8668407310704961\n",
      "recall: 0.9087591240875912\n",
      "accuracy: 0.928328611898017\n",
      "--------------------------------------------\n",
      "F1 score: 0.8873051224944322\n"
     ]
    }
   ],
   "source": [
    "true_positives = confusion_bal.loc[0,0]\n",
    "false_positives = confusion_bal.loc[1,0]\n",
    "true_negatives = confusion_bal.loc[1,1]\n",
    "false_negatives = confusion_bal.loc[0,1]\n",
    "\n",
    "total_points = true_positives + false_positives + true_negatives + false_negatives\n",
    "\n",
    "precision = true_positives / (true_positives + false_positives)\n",
    "recall = true_positives / (true_positives + false_negatives)\n",
    "accuracy = (true_positives + true_negatives) / (total_points)\n",
    "\n",
    "f1_score = (2*precision*recall / (precision + recall))\n",
    "\n",
    "\n",
    "print(\"------ Balanced Model ------\\n\")\n",
    "print(f'precision: {precision}')\n",
    "print(f'recall: {recall}') # % attrited customer that we can identify\n",
    "print(f'accuracy: {accuracy}') \n",
    "print(\"--\"*22)\n",
    "print(f'F1 score: {f1_score}')"
   ]
  },
  {
   "cell_type": "markdown",
   "id": "96b76f6e",
   "metadata": {},
   "source": [
    "Now we have lot more better metrics! The model can identify more attrited customers and with lot better results!"
   ]
  },
  {
   "cell_type": "code",
   "execution_count": 22,
   "id": "52654151",
   "metadata": {},
   "outputs": [
    {
     "name": "stdout",
     "output_type": "stream",
     "text": [
      "best score RandomForest: 0.8986049676760803\n"
     ]
    }
   ],
   "source": [
    "model = RandomForestClassifier(max_depth=12, n_estimators=50)\n",
    "model.fit(X_train_bal, y_train_bal)\n",
    "\n",
    "print(\"best score RandomForest:\", model.score(X_test, y_test))"
   ]
  },
  {
   "cell_type": "code",
   "execution_count": 23,
   "id": "4e10f6d3",
   "metadata": {},
   "outputs": [],
   "source": [
    "from sklearn.metrics import precision_recall_curve\n",
    "\n",
    "y_scores = cross_val_predict(model, X_bal, y_bal, cv=3)\n",
    "\n",
    "precisions, recalls, thresholds = precision_recall_curve(y_bal, y_scores)\n",
    "\n",
    "def plot_precision_recall_vs_threshold(precisions, recalls, thresholds):\n",
    "    plt.plot(thresholds, precisions[:-1], 'b--', label='Precision')\n",
    "    plt.plot(thresholds, recalls[:-1], 'g-', label='Recall')\n",
    "    plt.xlabel(\"Thresholds\")\n",
    "    plt.legend(loc=\"center right\", fontsize=10) "
   ]
  },
  {
   "cell_type": "code",
   "execution_count": 24,
   "id": "53b2426a",
   "metadata": {},
   "outputs": [
    {
     "data": {
      "image/png": "[encoded data removed]",
      "text/plain": [
       "<Figure size 432x288 with 1 Axes>"
      ]
     },
     "metadata": {
      "needs_background": "light"
     },
     "output_type": "display_data"
    }
   ],
   "source": [
    "plt.plot(precisions, recalls);\n",
    "plt.title(\"Precision vs Recall Curve\")\n",
    "plt.xlabel(\"Recall\")\n",
    "plt.ylabel(\"Precision\");"
   ]
  },
  {
   "cell_type": "markdown",
   "id": "74298bef",
   "metadata": {},
   "source": [
    "Not the best curve that we want, but acceptable. We get 90% recall with 65% precision. 95% recall with 40% precision."
   ]
  },
  {
   "cell_type": "markdown",
   "id": "d3d8867a",
   "metadata": {},
   "source": [
    "### Underfitting / Overfitting\n",
    "Let's see how model works on external data"
   ]
  },
  {
   "cell_type": "code",
   "execution_count": 25,
   "id": "3c2500bb",
   "metadata": {},
   "outputs": [
    {
     "name": "stdout",
     "output_type": "stream",
     "text": [
      "train score: 0.9510199745006375\n",
      "test score: 0.8901827454313642\n"
     ]
    }
   ],
   "source": [
    "from sklearn.model_selection import cross_validate\n",
    "\n",
    "results = cross_validate(model, X_bal, y_bal, return_train_score=True, cv=5)\n",
    "test_score = results['test_score']\n",
    "train_score = results['train_score']\n",
    "\n",
    "print(f'train score: {np.mean(train_score)}')\n",
    "print(f'test score: {np.mean(test_score)}')"
   ]
  },
  {
   "cell_type": "markdown",
   "id": "56f7829b",
   "metadata": {},
   "source": [
    "Not bad, model can improve but is a good result. This means that our model has low variance, since as it learns with train data, it also generalizes that learning to external data!"
   ]
  },
  {
   "cell_type": "code",
   "execution_count": 26,
   "id": "efbb3292",
   "metadata": {},
   "outputs": [
    {
     "data": {
      "image/png": "[encoded data removed]",
      "text/plain": [
       "<Figure size 432x288 with 1 Axes>"
      ]
     },
     "metadata": {
      "needs_background": "light"
     },
     "output_type": "display_data"
    }
   ],
   "source": [
    "from sklearn.model_selection import learning_curve\n",
    "\n",
    "lc = learning_curve(model, X_bal, y_bal, cv=5)\n",
    "samples, train, test = lc[0], lc[1], lc[2]\n",
    "\n",
    "plt.plot(samples, np.mean(train, axis=1));\n",
    "plt.plot(samples, np.mean(test, axis=1));"
   ]
  },
  {
   "cell_type": "markdown",
   "id": "ed1ac988",
   "metadata": {},
   "source": [
    "It seems that the model can learn a bit more, not too much because is very close to hitting the blue line on 90%."
   ]
  },
  {
   "cell_type": "markdown",
   "id": "d6a48683",
   "metadata": {},
   "source": [
    "# Decision\n",
    "**I'll chose balanced data with the features manually selected and model using boosting ensemble**\n",
    "\n",
    "According to the parametric optimization with RandomizedSearchCV. RandomForest works a little bit better with unbalanced data!\n",
    "\n",
    "**We have less score than balance data, but better performance!** This model identifies with more precision attrited customers than the other one. This is the goal."
   ]
  }
 ],
 "metadata": {
  "kernelspec": {
   "display_name": "Python 3",
   "language": "python",
   "name": "python3"
  },
  "language_info": {
   "codemirror_mode": {
    "name": "ipython",
    "version": 3
   },
   "file_extension": ".py",
   "mimetype": "text/x-python",
   "name": "python",
   "nbconvert_exporter": "python",
   "pygments_lexer": "ipython3",
   "version": "3.8.8"
  }
 },
 "nbformat": 4,
 "nbformat_minor": 5
}
