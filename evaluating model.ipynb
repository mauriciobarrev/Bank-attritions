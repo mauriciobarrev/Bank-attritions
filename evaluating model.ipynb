{
 "cells": [
  {
   "cell_type": "markdown",
   "id": "89578c7c",
   "metadata": {},
   "source": [
    "Testing how good is our model bringing different data from customers"
   ]
  },
  {
   "cell_type": "code",
   "execution_count": 1,
   "id": "5e43dfbb",
   "metadata": {},
   "outputs": [],
   "source": [
    "import pandas as pd\n",
    "import numpy as np\n",
    "import matplotlib.pyplot as plt\n",
    "import seaborn as sns\n",
    "\n",
    "from sklearn.ensemble import RandomForestClassifier\n",
    "from sklearn.preprocessing import StandardScaler\n",
    "\n",
    "from sklearn.model_selection import train_test_split"
   ]
  },
  {
   "cell_type": "code",
   "execution_count": 2,
   "id": "1cdb26d7",
   "metadata": {},
   "outputs": [],
   "source": [
    "dir_in = \"C:/Users/barre/Desktop/Machine Learning/projects/bank/in/{}\""
   ]
  },
  {
   "cell_type": "code",
   "execution_count": 3,
   "id": "c5ba6a05",
   "metadata": {},
   "outputs": [
    {
     "data": {
      "text/html": [
       "<div>\n",
       "<style scoped>\n",
       "    .dataframe tbody tr th:only-of-type {\n",
       "        vertical-align: middle;\n",
       "    }\n",
       "\n",
       "    .dataframe tbody tr th {\n",
       "        vertical-align: top;\n",
       "    }\n",
       "\n",
       "    .dataframe thead th {\n",
       "        text-align: right;\n",
       "    }\n",
       "</style>\n",
       "<table border=\"1\" class=\"dataframe\">\n",
       "  <thead>\n",
       "    <tr style=\"text-align: right;\">\n",
       "      <th></th>\n",
       "      <th>Total_Trans_Ct</th>\n",
       "      <th>Total_Revolving_Bal</th>\n",
       "      <th>Total_Relationship_Count</th>\n",
       "      <th>Months_Inactive_12_mon</th>\n",
       "      <th>Target</th>\n",
       "    </tr>\n",
       "  </thead>\n",
       "  <tbody>\n",
       "    <tr>\n",
       "      <th>0</th>\n",
       "      <td>-0.970286</td>\n",
       "      <td>-0.476806</td>\n",
       "      <td>0.763842</td>\n",
       "      <td>-1.463138</td>\n",
       "      <td>1</td>\n",
       "    </tr>\n",
       "    <tr>\n",
       "      <th>1</th>\n",
       "      <td>-1.353116</td>\n",
       "      <td>-0.369926</td>\n",
       "      <td>1.407008</td>\n",
       "      <td>-1.463138</td>\n",
       "      <td>1</td>\n",
       "    </tr>\n",
       "    <tr>\n",
       "      <th>2</th>\n",
       "      <td>-1.906094</td>\n",
       "      <td>-1.431349</td>\n",
       "      <td>0.120676</td>\n",
       "      <td>-1.463138</td>\n",
       "      <td>1</td>\n",
       "    </tr>\n",
       "  </tbody>\n",
       "</table>\n",
       "</div>"
      ],
      "text/plain": [
       "   Total_Trans_Ct  Total_Revolving_Bal  Total_Relationship_Count  \\\n",
       "0       -0.970286            -0.476806                  0.763842   \n",
       "1       -1.353116            -0.369926                  1.407008   \n",
       "2       -1.906094            -1.431349                  0.120676   \n",
       "\n",
       "   Months_Inactive_12_mon  Target  \n",
       "0               -1.463138       1  \n",
       "1               -1.463138       1  \n",
       "2               -1.463138       1  "
      ]
     },
     "execution_count": 3,
     "metadata": {},
     "output_type": "execute_result"
    }
   ],
   "source": [
    "df_bal = pd.read_csv(dir_in.format('data_balanced.csv'))\n",
    "df_bal.head(3) # note that data is already standarized"
   ]
  },
  {
   "cell_type": "code",
   "execution_count": 4,
   "id": "057b1064",
   "metadata": {},
   "outputs": [],
   "source": [
    "X = df_bal.drop('Target', axis=1)\n",
    "y = df_bal['Target']\n",
    "\n",
    "X_train, X_test, y_train, y_test = train_test_split(X, y, test_size=0.3)"
   ]
  },
  {
   "cell_type": "code",
   "execution_count": 5,
   "id": "c9433bb2",
   "metadata": {},
   "outputs": [
    {
     "name": "stdout",
     "output_type": "stream",
     "text": [
      "best score RandomForest: 0.9101983002832861\n"
     ]
    }
   ],
   "source": [
    "model = RandomForestClassifier(max_depth=12, n_estimators=50)\n",
    "model.fit(X_train, y_train)\n",
    "print(\"best score RandomForest:\", model.score(X_test, y_test))"
   ]
  },
  {
   "cell_type": "markdown",
   "id": "b2d4c121",
   "metadata": {},
   "source": [
    "For an existing customer, model receives this inputs:\n",
    "- Number of transactions in latest 12 months\n",
    "- Revolving Balance\n",
    "- Number of products that has in the bank\n",
    "- Inactive time in latest 12 months"
   ]
  },
  {
   "cell_type": "markdown",
   "id": "239a8d7e",
   "metadata": {},
   "source": [
    "#### Random Prediction on original database"
   ]
  },
  {
   "cell_type": "code",
   "execution_count": 6,
   "id": "788e5bd9",
   "metadata": {},
   "outputs": [
    {
     "data": {
      "text/html": [
       "<div>\n",
       "<style scoped>\n",
       "    .dataframe tbody tr th:only-of-type {\n",
       "        vertical-align: middle;\n",
       "    }\n",
       "\n",
       "    .dataframe tbody tr th {\n",
       "        vertical-align: top;\n",
       "    }\n",
       "\n",
       "    .dataframe thead th {\n",
       "        text-align: right;\n",
       "    }\n",
       "</style>\n",
       "<table border=\"1\" class=\"dataframe\">\n",
       "  <thead>\n",
       "    <tr style=\"text-align: right;\">\n",
       "      <th></th>\n",
       "      <th>CLIENTNUM</th>\n",
       "      <th>Target</th>\n",
       "      <th>Customer_Age</th>\n",
       "      <th>Gender</th>\n",
       "      <th>Dependent_count</th>\n",
       "      <th>Education_Level</th>\n",
       "      <th>Marital_Status</th>\n",
       "      <th>Income_Category</th>\n",
       "      <th>Card_Category</th>\n",
       "      <th>Months_on_book</th>\n",
       "      <th>Total_Relationship_Count</th>\n",
       "      <th>Months_Inactive_12_mon</th>\n",
       "      <th>Credit_Limit</th>\n",
       "      <th>Total_Revolving_Bal</th>\n",
       "      <th>Total_Trans_Amt</th>\n",
       "      <th>Total_Trans_Ct</th>\n",
       "    </tr>\n",
       "  </thead>\n",
       "  <tbody>\n",
       "    <tr>\n",
       "      <th>0</th>\n",
       "      <td>768805383</td>\n",
       "      <td>1</td>\n",
       "      <td>45</td>\n",
       "      <td>M</td>\n",
       "      <td>3</td>\n",
       "      <td>High School</td>\n",
       "      <td>Married</td>\n",
       "      <td>$60K - $80K</td>\n",
       "      <td>Blue</td>\n",
       "      <td>39</td>\n",
       "      <td>5</td>\n",
       "      <td>1</td>\n",
       "      <td>12691.0</td>\n",
       "      <td>777</td>\n",
       "      <td>1144</td>\n",
       "      <td>42</td>\n",
       "    </tr>\n",
       "    <tr>\n",
       "      <th>1</th>\n",
       "      <td>818770008</td>\n",
       "      <td>1</td>\n",
       "      <td>49</td>\n",
       "      <td>F</td>\n",
       "      <td>5</td>\n",
       "      <td>Graduate</td>\n",
       "      <td>Single</td>\n",
       "      <td>Less than $40K</td>\n",
       "      <td>Blue</td>\n",
       "      <td>44</td>\n",
       "      <td>6</td>\n",
       "      <td>1</td>\n",
       "      <td>8256.0</td>\n",
       "      <td>864</td>\n",
       "      <td>1291</td>\n",
       "      <td>33</td>\n",
       "    </tr>\n",
       "  </tbody>\n",
       "</table>\n",
       "</div>"
      ],
      "text/plain": [
       "   CLIENTNUM  Target  Customer_Age Gender  Dependent_count Education_Level  \\\n",
       "0  768805383       1            45      M                3     High School   \n",
       "1  818770008       1            49      F                5        Graduate   \n",
       "\n",
       "  Marital_Status Income_Category Card_Category  Months_on_book  \\\n",
       "0        Married     $60K - $80K          Blue              39   \n",
       "1         Single  Less than $40K          Blue              44   \n",
       "\n",
       "   Total_Relationship_Count  Months_Inactive_12_mon  Credit_Limit  \\\n",
       "0                         5                       1       12691.0   \n",
       "1                         6                       1        8256.0   \n",
       "\n",
       "   Total_Revolving_Bal  Total_Trans_Amt  Total_Trans_Ct  \n",
       "0                  777             1144              42  \n",
       "1                  864             1291              33  "
      ]
     },
     "execution_count": 6,
     "metadata": {},
     "output_type": "execute_result"
    }
   ],
   "source": [
    "df_original = pd.read_csv(dir_in.format('BankData.csv'))\n",
    "df_original.rename(columns={'Attrition_Flag' : 'Target'}, inplace=True)\n",
    "\n",
    "target_dict = {'Attrited Customer' : 0,\n",
    "               'Existing Customer' : 1\n",
    "              }\n",
    "\n",
    "df_original['Target'] = df_original['Target'].map(target_dict)\n",
    "\n",
    "df_original.head(2)"
   ]
  },
  {
   "cell_type": "code",
   "execution_count": 7,
   "id": "63252fb4",
   "metadata": {},
   "outputs": [],
   "source": [
    "# relevant cols\n",
    "cols = ['Total_Trans_Ct', \n",
    "        'Total_Revolving_Bal', \n",
    "        'Total_Relationship_Count', \n",
    "        'Months_Inactive_12_mon']"
   ]
  },
  {
   "cell_type": "code",
   "execution_count": 8,
   "id": "7c6f771d",
   "metadata": {},
   "outputs": [],
   "source": [
    "# function to evaluate the prediction\n",
    "def evaluate(x, y):\n",
    "    if x[0] == y['Target']:\n",
    "        return \"Right\"\n",
    "    else:\n",
    "        return \"Wrong\"\n",
    "\n",
    "# function to return type of customer (bor better visualization)\n",
    "def client_type(x):\n",
    "    if x==0:\n",
    "        return \"Attrited\"\n",
    "    else:\n",
    "        return \"Existing\""
   ]
  },
  {
   "cell_type": "code",
   "execution_count": 10,
   "id": "b4a994ae",
   "metadata": {},
   "outputs": [
    {
     "name": "stdout",
     "output_type": "stream",
     "text": [
      "------ Data of the customer ------\n",
      "Total_Trans_Ct                85\n",
      "Total_Revolving_Bal         1093\n",
      "Total_Relationship_Count       1\n",
      "Months_Inactive_12_mon         3\n",
      "Target                         1\n",
      "Name: 9054, dtype: object \n",
      "\n",
      "========================================\n",
      "prediction for client 9054 : Existing\n",
      "Prediction is: Right\n"
     ]
    }
   ],
   "source": [
    "# let's check a random customer\n",
    "random = np.random.randint(0, df_original.shape[0])\n",
    "client = df_original.loc[random, :]\n",
    "\n",
    "print('------ Data of the customer ------')\n",
    "print(client[cols + ['Target']], \"\\n\")\n",
    "\n",
    "pred = model.predict(pd.DataFrame(client[cols]).T) # make a prediction of this customer\n",
    "\n",
    "print(\"==\"*20)\n",
    "print(\"prediction for client\", client.name, \":\", client_type(pred))\n",
    "print(\"Prediction is:\", evaluate(pred, client))"
   ]
  },
  {
   "cell_type": "code",
   "execution_count": 44,
   "id": "3b8b82b8",
   "metadata": {},
   "outputs": [
    {
     "data": {
      "image/png": "[encoded data removed]",
      "text/plain": [
       "<Figure size 144x288 with 1 Axes>"
      ]
     },
     "metadata": {
      "needs_background": "light"
     },
     "output_type": "display_data"
    }
   ],
   "source": [
    "# Let's see the results in graph\n",
    "\n",
    "plt.figure(figsize=(2,4))\n",
    "\n",
    "for num in range(0, 202,2):\n",
    "    random = np.random.randint(0, df_original.shape[0])\n",
    "    client = df_original.loc[random, :]\n",
    "    \n",
    "    pred = model.predict(pd.DataFrame(client[cols]).T) # make a prediction of this customer\n",
    "    \n",
    "    plt.plot(evaluate(pred, client), num, 'o')\n",
    "\n",
    "plt.title(f\"Model Evaluation on {num} \\nRandom Users\")\n",
    "plt.xlabel(\"Prediction\");\n",
    "plt.xticks(size=9)\n",
    "plt.ylabel(\"Customers\");\n",
    "plt.yticks(size=9);"
   ]
  }
 ],
 "metadata": {
  "kernelspec": {
   "display_name": "Python 3",
   "language": "python",
   "name": "python3"
  },
  "language_info": {
   "codemirror_mode": {
    "name": "ipython",
    "version": 3
   },
   "file_extension": ".py",
   "mimetype": "text/x-python",
   "name": "python",
   "nbconvert_exporter": "python",
   "pygments_lexer": "ipython3",
   "version": "3.8.8"
  }
 },
 "nbformat": 4,
 "nbformat_minor": 5
}
