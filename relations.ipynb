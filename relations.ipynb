{
 "cells": [
  {
   "cell_type": "markdown",
   "id": "e77e76f7",
   "metadata": {},
   "source": [
    "In this code, I'll check the relations between selected features (feature engineering) and target."
   ]
  },
  {
   "cell_type": "markdown",
   "id": "8744d7eb",
   "metadata": {},
   "source": [
    "**Is important to understand that maybe this visualizations may not represent a fully information of the reality, the main reason is the dataset is unbalanced between attrited and existing customers!**"
   ]
  },
  {
   "cell_type": "code",
   "execution_count": 1,
   "id": "8ef8a6f9",
   "metadata": {},
   "outputs": [],
   "source": [
    "import pandas as pd\n",
    "import numpy as np\n",
    "import matplotlib.pyplot as plt"
   ]
  },
  {
   "cell_type": "code",
   "execution_count": 2,
   "id": "b2791e5e",
   "metadata": {},
   "outputs": [],
   "source": [
    "dir_in = \"C:/Users/barre/Desktop/Machine Learning/projects/bank/in/{}\""
   ]
  },
  {
   "cell_type": "code",
   "execution_count": 3,
   "id": "265b3f1d",
   "metadata": {},
   "outputs": [
    {
     "data": {
      "text/html": [
       "<div>\n",
       "<style scoped>\n",
       "    .dataframe tbody tr th:only-of-type {\n",
       "        vertical-align: middle;\n",
       "    }\n",
       "\n",
       "    .dataframe tbody tr th {\n",
       "        vertical-align: top;\n",
       "    }\n",
       "\n",
       "    .dataframe thead th {\n",
       "        text-align: right;\n",
       "    }\n",
       "</style>\n",
       "<table border=\"1\" class=\"dataframe\">\n",
       "  <thead>\n",
       "    <tr style=\"text-align: right;\">\n",
       "      <th></th>\n",
       "      <th>Total_Trans_Ct</th>\n",
       "      <th>Total_Revolving_Bal</th>\n",
       "      <th>Total_Relationship_Count</th>\n",
       "      <th>Months_Inactive_12_mon</th>\n",
       "      <th>Target</th>\n",
       "    </tr>\n",
       "  </thead>\n",
       "  <tbody>\n",
       "    <tr>\n",
       "      <th>2615</th>\n",
       "      <td>68</td>\n",
       "      <td>2317</td>\n",
       "      <td>5</td>\n",
       "      <td>2</td>\n",
       "      <td>1</td>\n",
       "    </tr>\n",
       "    <tr>\n",
       "      <th>3722</th>\n",
       "      <td>87</td>\n",
       "      <td>1290</td>\n",
       "      <td>5</td>\n",
       "      <td>2</td>\n",
       "      <td>1</td>\n",
       "    </tr>\n",
       "    <tr>\n",
       "      <th>4438</th>\n",
       "      <td>79</td>\n",
       "      <td>0</td>\n",
       "      <td>5</td>\n",
       "      <td>3</td>\n",
       "      <td>1</td>\n",
       "    </tr>\n",
       "  </tbody>\n",
       "</table>\n",
       "</div>"
      ],
      "text/plain": [
       "      Total_Trans_Ct  Total_Revolving_Bal  Total_Relationship_Count  \\\n",
       "2615              68                 2317                         5   \n",
       "3722              87                 1290                         5   \n",
       "4438              79                    0                         5   \n",
       "\n",
       "      Months_Inactive_12_mon  Target  \n",
       "2615                       2       1  \n",
       "3722                       2       1  \n",
       "4438                       3       1  "
      ]
     },
     "execution_count": 3,
     "metadata": {},
     "output_type": "execute_result"
    }
   ],
   "source": [
    "df = pd.read_csv(dir_in.format('data_selection.csv'))\n",
    "df.sample(3)"
   ]
  },
  {
   "cell_type": "markdown",
   "id": "331dd35a",
   "metadata": {},
   "source": [
    "Renaming the values on target to have a better comprehension"
   ]
  },
  {
   "cell_type": "code",
   "execution_count": 4,
   "id": "74e5b029",
   "metadata": {},
   "outputs": [
    {
     "data": {
      "text/html": [
       "<div>\n",
       "<style scoped>\n",
       "    .dataframe tbody tr th:only-of-type {\n",
       "        vertical-align: middle;\n",
       "    }\n",
       "\n",
       "    .dataframe tbody tr th {\n",
       "        vertical-align: top;\n",
       "    }\n",
       "\n",
       "    .dataframe thead th {\n",
       "        text-align: right;\n",
       "    }\n",
       "</style>\n",
       "<table border=\"1\" class=\"dataframe\">\n",
       "  <thead>\n",
       "    <tr style=\"text-align: right;\">\n",
       "      <th></th>\n",
       "      <th>Total_Trans_Ct</th>\n",
       "      <th>Total_Revolving_Bal</th>\n",
       "      <th>Total_Relationship_Count</th>\n",
       "      <th>Months_Inactive_12_mon</th>\n",
       "      <th>Target</th>\n",
       "    </tr>\n",
       "  </thead>\n",
       "  <tbody>\n",
       "    <tr>\n",
       "      <th>0</th>\n",
       "      <td>42</td>\n",
       "      <td>777</td>\n",
       "      <td>5</td>\n",
       "      <td>1</td>\n",
       "      <td>Existing Customer</td>\n",
       "    </tr>\n",
       "    <tr>\n",
       "      <th>1</th>\n",
       "      <td>33</td>\n",
       "      <td>864</td>\n",
       "      <td>6</td>\n",
       "      <td>1</td>\n",
       "      <td>Existing Customer</td>\n",
       "    </tr>\n",
       "    <tr>\n",
       "      <th>2</th>\n",
       "      <td>20</td>\n",
       "      <td>0</td>\n",
       "      <td>4</td>\n",
       "      <td>1</td>\n",
       "      <td>Existing Customer</td>\n",
       "    </tr>\n",
       "    <tr>\n",
       "      <th>3</th>\n",
       "      <td>20</td>\n",
       "      <td>2517</td>\n",
       "      <td>3</td>\n",
       "      <td>4</td>\n",
       "      <td>Existing Customer</td>\n",
       "    </tr>\n",
       "    <tr>\n",
       "      <th>4</th>\n",
       "      <td>28</td>\n",
       "      <td>0</td>\n",
       "      <td>5</td>\n",
       "      <td>1</td>\n",
       "      <td>Existing Customer</td>\n",
       "    </tr>\n",
       "  </tbody>\n",
       "</table>\n",
       "</div>"
      ],
      "text/plain": [
       "   Total_Trans_Ct  Total_Revolving_Bal  Total_Relationship_Count  \\\n",
       "0              42                  777                         5   \n",
       "1              33                  864                         6   \n",
       "2              20                    0                         4   \n",
       "3              20                 2517                         3   \n",
       "4              28                    0                         5   \n",
       "\n",
       "   Months_Inactive_12_mon             Target  \n",
       "0                       1  Existing Customer  \n",
       "1                       1  Existing Customer  \n",
       "2                       1  Existing Customer  \n",
       "3                       4  Existing Customer  \n",
       "4                       1  Existing Customer  "
      ]
     },
     "execution_count": 4,
     "metadata": {},
     "output_type": "execute_result"
    }
   ],
   "source": [
    "target_dict = {0 : 'Attrited Customer',\n",
    "               1 : 'Existing Customer'\n",
    "              }\n",
    "\n",
    "df['Target'] = df['Target'].map(target_dict)\n",
    "df.head()"
   ]
  },
  {
   "cell_type": "code",
   "execution_count": 5,
   "id": "8ac4c2de",
   "metadata": {},
   "outputs": [
    {
     "data": {
      "text/html": [
       "<div>\n",
       "<style scoped>\n",
       "    .dataframe tbody tr th:only-of-type {\n",
       "        vertical-align: middle;\n",
       "    }\n",
       "\n",
       "    .dataframe tbody tr th {\n",
       "        vertical-align: top;\n",
       "    }\n",
       "\n",
       "    .dataframe thead th {\n",
       "        text-align: right;\n",
       "    }\n",
       "</style>\n",
       "<table border=\"1\" class=\"dataframe\">\n",
       "  <thead>\n",
       "    <tr style=\"text-align: right;\">\n",
       "      <th></th>\n",
       "      <th>Total_Trans_Ct</th>\n",
       "      <th>Total_Revolving_Bal</th>\n",
       "      <th>Total_Relationship_Count</th>\n",
       "      <th>Months_Inactive_12_mon</th>\n",
       "    </tr>\n",
       "    <tr>\n",
       "      <th>Target</th>\n",
       "      <th></th>\n",
       "      <th></th>\n",
       "      <th></th>\n",
       "      <th></th>\n",
       "    </tr>\n",
       "  </thead>\n",
       "  <tbody>\n",
       "    <tr>\n",
       "      <th>Attrited Customer</th>\n",
       "      <td>1561</td>\n",
       "      <td>1561</td>\n",
       "      <td>1561</td>\n",
       "      <td>1561</td>\n",
       "    </tr>\n",
       "    <tr>\n",
       "      <th>Existing Customer</th>\n",
       "      <td>8235</td>\n",
       "      <td>8235</td>\n",
       "      <td>8235</td>\n",
       "      <td>8235</td>\n",
       "    </tr>\n",
       "  </tbody>\n",
       "</table>\n",
       "</div>"
      ],
      "text/plain": [
       "                   Total_Trans_Ct  Total_Revolving_Bal  \\\n",
       "Target                                                   \n",
       "Attrited Customer            1561                 1561   \n",
       "Existing Customer            8235                 8235   \n",
       "\n",
       "                   Total_Relationship_Count  Months_Inactive_12_mon  \n",
       "Target                                                               \n",
       "Attrited Customer                      1561                    1561  \n",
       "Existing Customer                      8235                    8235  "
      ]
     },
     "execution_count": 5,
     "metadata": {},
     "output_type": "execute_result"
    }
   ],
   "source": [
    "df.groupby('Target').count()"
   ]
  },
  {
   "cell_type": "markdown",
   "id": "4d320b37",
   "metadata": {},
   "source": [
    "### Attrition & Number of Transactions per customer in latest 12 months"
   ]
  },
  {
   "cell_type": "code",
   "execution_count": 6,
   "id": "564fa477",
   "metadata": {},
   "outputs": [
    {
     "data": {
      "text/html": [
       "<div>\n",
       "<style scoped>\n",
       "    .dataframe tbody tr th:only-of-type {\n",
       "        vertical-align: middle;\n",
       "    }\n",
       "\n",
       "    .dataframe tbody tr th {\n",
       "        vertical-align: top;\n",
       "    }\n",
       "\n",
       "    .dataframe thead th {\n",
       "        text-align: right;\n",
       "    }\n",
       "</style>\n",
       "<table border=\"1\" class=\"dataframe\">\n",
       "  <thead>\n",
       "    <tr style=\"text-align: right;\">\n",
       "      <th></th>\n",
       "      <th>count</th>\n",
       "      <th>mean</th>\n",
       "      <th>std</th>\n",
       "      <th>min</th>\n",
       "      <th>25%</th>\n",
       "      <th>50%</th>\n",
       "      <th>75%</th>\n",
       "      <th>max</th>\n",
       "    </tr>\n",
       "    <tr>\n",
       "      <th>Target</th>\n",
       "      <th></th>\n",
       "      <th></th>\n",
       "      <th></th>\n",
       "      <th></th>\n",
       "      <th></th>\n",
       "      <th></th>\n",
       "      <th></th>\n",
       "      <th></th>\n",
       "    </tr>\n",
       "  </thead>\n",
       "  <tbody>\n",
       "    <tr>\n",
       "      <th>Attrited Customer</th>\n",
       "      <td>1561.0</td>\n",
       "      <td>45.000000</td>\n",
       "      <td>14.661217</td>\n",
       "      <td>10.0</td>\n",
       "      <td>37.0</td>\n",
       "      <td>43.0</td>\n",
       "      <td>51.0</td>\n",
       "      <td>94.0</td>\n",
       "    </tr>\n",
       "    <tr>\n",
       "      <th>Existing Customer</th>\n",
       "      <td>8235.0</td>\n",
       "      <td>68.565756</td>\n",
       "      <td>22.984590</td>\n",
       "      <td>11.0</td>\n",
       "      <td>54.0</td>\n",
       "      <td>71.0</td>\n",
       "      <td>82.0</td>\n",
       "      <td>139.0</td>\n",
       "    </tr>\n",
       "  </tbody>\n",
       "</table>\n",
       "</div>"
      ],
      "text/plain": [
       "                    count       mean        std   min   25%   50%   75%    max\n",
       "Target                                                                        \n",
       "Attrited Customer  1561.0  45.000000  14.661217  10.0  37.0  43.0  51.0   94.0\n",
       "Existing Customer  8235.0  68.565756  22.984590  11.0  54.0  71.0  82.0  139.0"
      ]
     },
     "execution_count": 6,
     "metadata": {},
     "output_type": "execute_result"
    }
   ],
   "source": [
    "df.groupby('Target')['Total_Trans_Ct'].describe()"
   ]
  },
  {
   "cell_type": "code",
   "execution_count": 7,
   "id": "ce84f16b",
   "metadata": {},
   "outputs": [
    {
     "data": {
      "image/png": "[encoded data removed]",
      "text/plain": [
       "<Figure size 360x216 with 1 Axes>"
      ]
     },
     "metadata": {
      "needs_background": "light"
     },
     "output_type": "display_data"
    }
   ],
   "source": [
    "plt.figure(figsize=(5, 3))\n",
    "df.groupby('Target')['Total_Trans_Ct'].mean().plot(kind='bar', \n",
    "                                                   color=['#D1B375', '#BAE6B3'], \n",
    "                                                   edgecolor='black');\n",
    "\n",
    "plt.title(\"Attritions & transactions in latest 12 months\", size=12);\n",
    "plt.ylabel(\"Transactions (average)\", size=9);\n",
    "plt.xticks([0, 1], ['Attrited', 'Existing'], rotation=0, size=9);\n",
    "plt.xlabel(\"\");"
   ]
  },
  {
   "cell_type": "markdown",
   "id": "8c3a8642",
   "metadata": {},
   "source": [
    "### Attrition & Credit Unpaid per customer in latest 12 months"
   ]
  },
  {
   "cell_type": "code",
   "execution_count": 8,
   "id": "13ea4c97",
   "metadata": {},
   "outputs": [],
   "source": [
    "df_relation = df.copy()\n",
    "df_relation['ones'] = 1"
   ]
  },
  {
   "cell_type": "code",
   "execution_count": 9,
   "id": "22582e18",
   "metadata": {},
   "outputs": [
    {
     "data": {
      "text/html": [
       "<div>\n",
       "<style scoped>\n",
       "    .dataframe tbody tr th:only-of-type {\n",
       "        vertical-align: middle;\n",
       "    }\n",
       "\n",
       "    .dataframe tbody tr th {\n",
       "        vertical-align: top;\n",
       "    }\n",
       "\n",
       "    .dataframe thead th {\n",
       "        text-align: right;\n",
       "    }\n",
       "</style>\n",
       "<table border=\"1\" class=\"dataframe\">\n",
       "  <thead>\n",
       "    <tr style=\"text-align: right;\">\n",
       "      <th></th>\n",
       "      <th>count</th>\n",
       "      <th>mean</th>\n",
       "      <th>std</th>\n",
       "      <th>min</th>\n",
       "      <th>25%</th>\n",
       "      <th>50%</th>\n",
       "      <th>75%</th>\n",
       "      <th>max</th>\n",
       "    </tr>\n",
       "    <tr>\n",
       "      <th>Target</th>\n",
       "      <th></th>\n",
       "      <th></th>\n",
       "      <th></th>\n",
       "      <th></th>\n",
       "      <th></th>\n",
       "      <th></th>\n",
       "      <th></th>\n",
       "      <th></th>\n",
       "    </tr>\n",
       "  </thead>\n",
       "  <tbody>\n",
       "    <tr>\n",
       "      <th>Attrited Customer</th>\n",
       "      <td>1561.0</td>\n",
       "      <td>674.921204</td>\n",
       "      <td>923.224043</td>\n",
       "      <td>0.0</td>\n",
       "      <td>0.0</td>\n",
       "      <td>0.0</td>\n",
       "      <td>1309.0</td>\n",
       "      <td>2517.0</td>\n",
       "    </tr>\n",
       "    <tr>\n",
       "      <th>Existing Customer</th>\n",
       "      <td>8235.0</td>\n",
       "      <td>1258.041287</td>\n",
       "      <td>756.717382</td>\n",
       "      <td>0.0</td>\n",
       "      <td>801.0</td>\n",
       "      <td>1366.0</td>\n",
       "      <td>1807.0</td>\n",
       "      <td>2517.0</td>\n",
       "    </tr>\n",
       "  </tbody>\n",
       "</table>\n",
       "</div>"
      ],
      "text/plain": [
       "                    count         mean         std  min    25%     50%  \\\n",
       "Target                                                                   \n",
       "Attrited Customer  1561.0   674.921204  923.224043  0.0    0.0     0.0   \n",
       "Existing Customer  8235.0  1258.041287  756.717382  0.0  801.0  1366.0   \n",
       "\n",
       "                      75%     max  \n",
       "Target                             \n",
       "Attrited Customer  1309.0  2517.0  \n",
       "Existing Customer  1807.0  2517.0  "
      ]
     },
     "execution_count": 9,
     "metadata": {},
     "output_type": "execute_result"
    }
   ],
   "source": [
    "df.groupby('Target')['Total_Revolving_Bal'].describe()"
   ]
  },
  {
   "cell_type": "code",
   "execution_count": 10,
   "id": "b256e1fa",
   "metadata": {},
   "outputs": [
    {
     "data": {
      "text/html": [
       "<div>\n",
       "<style scoped>\n",
       "    .dataframe tbody tr th:only-of-type {\n",
       "        vertical-align: middle;\n",
       "    }\n",
       "\n",
       "    .dataframe tbody tr th {\n",
       "        vertical-align: top;\n",
       "    }\n",
       "\n",
       "    .dataframe thead th {\n",
       "        text-align: right;\n",
       "    }\n",
       "</style>\n",
       "<table border=\"1\" class=\"dataframe\">\n",
       "  <thead>\n",
       "    <tr style=\"text-align: right;\">\n",
       "      <th></th>\n",
       "      <th>Total_Trans_Ct</th>\n",
       "      <th>Total_Revolving_Bal</th>\n",
       "      <th>Total_Relationship_Count</th>\n",
       "      <th>Months_Inactive_12_mon</th>\n",
       "      <th>Target</th>\n",
       "      <th>ones</th>\n",
       "    </tr>\n",
       "  </thead>\n",
       "  <tbody>\n",
       "    <tr>\n",
       "      <th>0</th>\n",
       "      <td>42</td>\n",
       "      <td>(400, 900]</td>\n",
       "      <td>5</td>\n",
       "      <td>1</td>\n",
       "      <td>Existing Customer</td>\n",
       "      <td>1</td>\n",
       "    </tr>\n",
       "    <tr>\n",
       "      <th>1</th>\n",
       "      <td>33</td>\n",
       "      <td>(400, 900]</td>\n",
       "      <td>6</td>\n",
       "      <td>1</td>\n",
       "      <td>Existing Customer</td>\n",
       "      <td>1</td>\n",
       "    </tr>\n",
       "    <tr>\n",
       "      <th>2</th>\n",
       "      <td>20</td>\n",
       "      <td>(-1, 400]</td>\n",
       "      <td>4</td>\n",
       "      <td>1</td>\n",
       "      <td>Existing Customer</td>\n",
       "      <td>1</td>\n",
       "    </tr>\n",
       "    <tr>\n",
       "      <th>3</th>\n",
       "      <td>20</td>\n",
       "      <td>(2000, 2600]</td>\n",
       "      <td>3</td>\n",
       "      <td>4</td>\n",
       "      <td>Existing Customer</td>\n",
       "      <td>1</td>\n",
       "    </tr>\n",
       "    <tr>\n",
       "      <th>4</th>\n",
       "      <td>28</td>\n",
       "      <td>(-1, 400]</td>\n",
       "      <td>5</td>\n",
       "      <td>1</td>\n",
       "      <td>Existing Customer</td>\n",
       "      <td>1</td>\n",
       "    </tr>\n",
       "  </tbody>\n",
       "</table>\n",
       "</div>"
      ],
      "text/plain": [
       "   Total_Trans_Ct Total_Revolving_Bal  Total_Relationship_Count  \\\n",
       "0              42          (400, 900]                         5   \n",
       "1              33          (400, 900]                         6   \n",
       "2              20           (-1, 400]                         4   \n",
       "3              20        (2000, 2600]                         3   \n",
       "4              28           (-1, 400]                         5   \n",
       "\n",
       "   Months_Inactive_12_mon             Target  ones  \n",
       "0                       1  Existing Customer     1  \n",
       "1                       1  Existing Customer     1  \n",
       "2                       1  Existing Customer     1  \n",
       "3                       4  Existing Customer     1  \n",
       "4                       1  Existing Customer     1  "
      ]
     },
     "execution_count": 10,
     "metadata": {},
     "output_type": "execute_result"
    }
   ],
   "source": [
    "df_relation['Total_Revolving_Bal'] = pd.cut(df_relation['Total_Revolving_Bal'],\n",
    "                                            bins=[-1, 400, 900, 1200, 1600, 2000, 2600])\n",
    "df_relation.head()"
   ]
  },
  {
   "cell_type": "code",
   "execution_count": 11,
   "id": "01e2623d",
   "metadata": {},
   "outputs": [
    {
     "data": {
      "text/html": [
       "<div>\n",
       "<style scoped>\n",
       "    .dataframe tbody tr th:only-of-type {\n",
       "        vertical-align: middle;\n",
       "    }\n",
       "\n",
       "    .dataframe tbody tr th {\n",
       "        vertical-align: top;\n",
       "    }\n",
       "\n",
       "    .dataframe thead th {\n",
       "        text-align: right;\n",
       "    }\n",
       "</style>\n",
       "<table border=\"1\" class=\"dataframe\">\n",
       "  <thead>\n",
       "    <tr style=\"text-align: right;\">\n",
       "      <th></th>\n",
       "      <th></th>\n",
       "      <th>ones</th>\n",
       "    </tr>\n",
       "    <tr>\n",
       "      <th>Target</th>\n",
       "      <th>Total_Revolving_Bal</th>\n",
       "      <th></th>\n",
       "    </tr>\n",
       "  </thead>\n",
       "  <tbody>\n",
       "    <tr>\n",
       "      <th rowspan=\"6\" valign=\"top\">Attrited Customer</th>\n",
       "      <th>(-1, 400]</th>\n",
       "      <td>926</td>\n",
       "    </tr>\n",
       "    <tr>\n",
       "      <th>(400, 900]</th>\n",
       "      <td>152</td>\n",
       "    </tr>\n",
       "    <tr>\n",
       "      <th>(900, 1200]</th>\n",
       "      <td>74</td>\n",
       "    </tr>\n",
       "    <tr>\n",
       "      <th>(1200, 1600]</th>\n",
       "      <td>80</td>\n",
       "    </tr>\n",
       "    <tr>\n",
       "      <th>(1600, 2000]</th>\n",
       "      <td>84</td>\n",
       "    </tr>\n",
       "    <tr>\n",
       "      <th>(2000, 2600]</th>\n",
       "      <td>245</td>\n",
       "    </tr>\n",
       "    <tr>\n",
       "      <th rowspan=\"6\" valign=\"top\">Existing Customer</th>\n",
       "      <th>(-1, 400]</th>\n",
       "      <td>1519</td>\n",
       "    </tr>\n",
       "    <tr>\n",
       "      <th>(400, 900]</th>\n",
       "      <td>825</td>\n",
       "    </tr>\n",
       "    <tr>\n",
       "      <th>(900, 1200]</th>\n",
       "      <td>1054</td>\n",
       "    </tr>\n",
       "    <tr>\n",
       "      <th>(1200, 1600]</th>\n",
       "      <td>1844</td>\n",
       "    </tr>\n",
       "    <tr>\n",
       "      <th>(1600, 2000]</th>\n",
       "      <td>1627</td>\n",
       "    </tr>\n",
       "    <tr>\n",
       "      <th>(2000, 2600]</th>\n",
       "      <td>1366</td>\n",
       "    </tr>\n",
       "  </tbody>\n",
       "</table>\n",
       "</div>"
      ],
      "text/plain": [
       "                                       ones\n",
       "Target            Total_Revolving_Bal      \n",
       "Attrited Customer (-1, 400]             926\n",
       "                  (400, 900]            152\n",
       "                  (900, 1200]            74\n",
       "                  (1200, 1600]           80\n",
       "                  (1600, 2000]           84\n",
       "                  (2000, 2600]          245\n",
       "Existing Customer (-1, 400]            1519\n",
       "                  (400, 900]            825\n",
       "                  (900, 1200]          1054\n",
       "                  (1200, 1600]         1844\n",
       "                  (1600, 2000]         1627\n",
       "                  (2000, 2600]         1366"
      ]
     },
     "execution_count": 11,
     "metadata": {},
     "output_type": "execute_result"
    }
   ],
   "source": [
    "df_relation.groupby(['Target', 'Total_Revolving_Bal'])[['ones']].count()"
   ]
  },
  {
   "cell_type": "markdown",
   "id": "df5a3cd5",
   "metadata": {},
   "source": [
    "In %:"
   ]
  },
  {
   "cell_type": "code",
   "execution_count": 12,
   "id": "d5deaa18",
   "metadata": {},
   "outputs": [
    {
     "data": {
      "text/html": [
       "<div>\n",
       "<style scoped>\n",
       "    .dataframe tbody tr th:only-of-type {\n",
       "        vertical-align: middle;\n",
       "    }\n",
       "\n",
       "    .dataframe tbody tr th {\n",
       "        vertical-align: top;\n",
       "    }\n",
       "\n",
       "    .dataframe thead th {\n",
       "        text-align: right;\n",
       "    }\n",
       "</style>\n",
       "<table border=\"1\" class=\"dataframe\">\n",
       "  <thead>\n",
       "    <tr style=\"text-align: right;\">\n",
       "      <th></th>\n",
       "      <th></th>\n",
       "      <th>ones</th>\n",
       "    </tr>\n",
       "    <tr>\n",
       "      <th>Target</th>\n",
       "      <th>Total_Revolving_Bal</th>\n",
       "      <th></th>\n",
       "    </tr>\n",
       "  </thead>\n",
       "  <tbody>\n",
       "    <tr>\n",
       "      <th rowspan=\"6\" valign=\"top\">Attrited Customer</th>\n",
       "      <th>(-1, 400]</th>\n",
       "      <td>59.320948</td>\n",
       "    </tr>\n",
       "    <tr>\n",
       "      <th>(400, 900]</th>\n",
       "      <td>9.737348</td>\n",
       "    </tr>\n",
       "    <tr>\n",
       "      <th>(900, 1200]</th>\n",
       "      <td>4.740551</td>\n",
       "    </tr>\n",
       "    <tr>\n",
       "      <th>(1200, 1600]</th>\n",
       "      <td>5.124920</td>\n",
       "    </tr>\n",
       "    <tr>\n",
       "      <th>(1600, 2000]</th>\n",
       "      <td>5.381166</td>\n",
       "    </tr>\n",
       "    <tr>\n",
       "      <th>(2000, 2600]</th>\n",
       "      <td>15.695067</td>\n",
       "    </tr>\n",
       "    <tr>\n",
       "      <th rowspan=\"6\" valign=\"top\">Existing Customer</th>\n",
       "      <th>(-1, 400]</th>\n",
       "      <td>18.445659</td>\n",
       "    </tr>\n",
       "    <tr>\n",
       "      <th>(400, 900]</th>\n",
       "      <td>10.018215</td>\n",
       "    </tr>\n",
       "    <tr>\n",
       "      <th>(900, 1200]</th>\n",
       "      <td>12.799029</td>\n",
       "    </tr>\n",
       "    <tr>\n",
       "      <th>(1200, 1600]</th>\n",
       "      <td>22.392228</td>\n",
       "    </tr>\n",
       "    <tr>\n",
       "      <th>(1600, 2000]</th>\n",
       "      <td>19.757134</td>\n",
       "    </tr>\n",
       "    <tr>\n",
       "      <th>(2000, 2600]</th>\n",
       "      <td>16.587735</td>\n",
       "    </tr>\n",
       "  </tbody>\n",
       "</table>\n",
       "</div>"
      ],
      "text/plain": [
       "                                            ones\n",
       "Target            Total_Revolving_Bal           \n",
       "Attrited Customer (-1, 400]            59.320948\n",
       "                  (400, 900]            9.737348\n",
       "                  (900, 1200]           4.740551\n",
       "                  (1200, 1600]          5.124920\n",
       "                  (1600, 2000]          5.381166\n",
       "                  (2000, 2600]         15.695067\n",
       "Existing Customer (-1, 400]            18.445659\n",
       "                  (400, 900]           10.018215\n",
       "                  (900, 1200]          12.799029\n",
       "                  (1200, 1600]         22.392228\n",
       "                  (1600, 2000]         19.757134\n",
       "                  (2000, 2600]         16.587735"
      ]
     },
     "execution_count": 12,
     "metadata": {},
     "output_type": "execute_result"
    }
   ],
   "source": [
    "revolving_bal = df_relation.groupby(['Target', 'Total_Revolving_Bal'])[['ones']].count().groupby(level=0).apply(\n",
    "                lambda x:\n",
    "                x / x.sum()*100\n",
    "            )\n",
    "\n",
    "revolving_bal"
   ]
  },
  {
   "cell_type": "code",
   "execution_count": 13,
   "id": "18527e29",
   "metadata": {},
   "outputs": [
    {
     "data": {
      "image/png": "[encoded data removed]",
      "text/plain": [
       "<Figure size 216x288 with 1 Axes>"
      ]
     },
     "metadata": {
      "needs_background": "light"
     },
     "output_type": "display_data"
    },
    {
     "data": {
      "image/png": "[encoded data removed]",
      "text/plain": [
       "<Figure size 216x288 with 1 Axes>"
      ]
     },
     "metadata": {
      "needs_background": "light"
     },
     "output_type": "display_data"
    }
   ],
   "source": [
    "revolving_bal.reset_index('Target').iloc[:6,1:].plot(kind='bar', \n",
    "                                                     figsize=(3,4), \n",
    "                                                     legend=None,\n",
    "                                                     color='#D1B375',\n",
    "                                                     edgecolor='black');\n",
    "\n",
    "plt.title(\"Revolving Balance of \\nAttrited Customers\", size=12);\n",
    "plt.ylabel(\"% Credit Unpaid\", size=9);\n",
    "plt.xticks(size=9)\n",
    "plt.yticks(size=9)\n",
    "plt.xlabel(\"\");\n",
    "\n",
    "\n",
    "revolving_bal.reset_index('Target').iloc[6:,1:].plot(kind='bar',\n",
    "                                                     figsize=(3,4),\n",
    "                                                     legend=None,\n",
    "                                                     color='#BAE6B3',\n",
    "                                                     edgecolor='black');\n",
    "\n",
    "plt.title(\"Revolving Balance of \\nExisting Customers\", size=12);\n",
    "plt.ylabel(\"% Credit Unpaid\", size=9);\n",
    "plt.xticks(size=9)\n",
    "plt.yticks(size=9)\n",
    "plt.xlabel(\"\");"
   ]
  },
  {
   "cell_type": "code",
   "execution_count": 14,
   "id": "7e5bca8b",
   "metadata": {},
   "outputs": [
    {
     "data": {
      "image/png": "[encoded data removed]",
      "text/plain": [
       "<Figure size 216x288 with 1 Axes>"
      ]
     },
     "metadata": {
      "needs_background": "light"
     },
     "output_type": "display_data"
    }
   ],
   "source": [
    "df.groupby('Target')['Total_Revolving_Bal'].mean().plot(kind='bar', \n",
    "                                                        color=['#D1B375', '#BAE6B3'], \n",
    "                                                        edgecolor='black',\n",
    "                                                        figsize=(3,4));\n",
    "\n",
    "plt.title(\"Attrition & Revolving Balance\", size=12);\n",
    "plt.ylabel(\"Credit Unpaid (average)\", size=9);\n",
    "plt.yticks(size=9)\n",
    "plt.xticks(size=9)\n",
    "plt.xticks([0, 1], ['Attrited', 'Existing'], rotation=0);\n",
    "plt.xlabel(\"\");"
   ]
  },
  {
   "cell_type": "markdown",
   "id": "fbe8765d",
   "metadata": {},
   "source": [
    "### Attrition & Months Inactive in latest 12 months"
   ]
  },
  {
   "cell_type": "code",
   "execution_count": 15,
   "id": "df9188b7",
   "metadata": {},
   "outputs": [
    {
     "data": {
      "text/html": [
       "<div>\n",
       "<style scoped>\n",
       "    .dataframe tbody tr th:only-of-type {\n",
       "        vertical-align: middle;\n",
       "    }\n",
       "\n",
       "    .dataframe tbody tr th {\n",
       "        vertical-align: top;\n",
       "    }\n",
       "\n",
       "    .dataframe thead th {\n",
       "        text-align: right;\n",
       "    }\n",
       "</style>\n",
       "<table border=\"1\" class=\"dataframe\">\n",
       "  <thead>\n",
       "    <tr style=\"text-align: right;\">\n",
       "      <th></th>\n",
       "      <th>count</th>\n",
       "      <th>mean</th>\n",
       "      <th>std</th>\n",
       "      <th>min</th>\n",
       "      <th>25%</th>\n",
       "      <th>50%</th>\n",
       "      <th>75%</th>\n",
       "      <th>max</th>\n",
       "    </tr>\n",
       "    <tr>\n",
       "      <th>Target</th>\n",
       "      <th></th>\n",
       "      <th></th>\n",
       "      <th></th>\n",
       "      <th></th>\n",
       "      <th></th>\n",
       "      <th></th>\n",
       "      <th></th>\n",
       "      <th></th>\n",
       "    </tr>\n",
       "  </thead>\n",
       "  <tbody>\n",
       "    <tr>\n",
       "      <th>Attrited Customer</th>\n",
       "      <td>1561.0</td>\n",
       "      <td>2.631646</td>\n",
       "      <td>0.726423</td>\n",
       "      <td>1.0</td>\n",
       "      <td>2.0</td>\n",
       "      <td>3.0</td>\n",
       "      <td>3.0</td>\n",
       "      <td>4.0</td>\n",
       "    </tr>\n",
       "    <tr>\n",
       "      <th>Existing Customer</th>\n",
       "      <td>8235.0</td>\n",
       "      <td>2.181785</td>\n",
       "      <td>0.860776</td>\n",
       "      <td>1.0</td>\n",
       "      <td>1.0</td>\n",
       "      <td>2.0</td>\n",
       "      <td>3.0</td>\n",
       "      <td>4.0</td>\n",
       "    </tr>\n",
       "  </tbody>\n",
       "</table>\n",
       "</div>"
      ],
      "text/plain": [
       "                    count      mean       std  min  25%  50%  75%  max\n",
       "Target                                                                \n",
       "Attrited Customer  1561.0  2.631646  0.726423  1.0  2.0  3.0  3.0  4.0\n",
       "Existing Customer  8235.0  2.181785  0.860776  1.0  1.0  2.0  3.0  4.0"
      ]
     },
     "execution_count": 15,
     "metadata": {},
     "output_type": "execute_result"
    }
   ],
   "source": [
    "df.groupby('Target')['Months_Inactive_12_mon'].describe()"
   ]
  },
  {
   "cell_type": "code",
   "execution_count": 16,
   "id": "8bec358c",
   "metadata": {},
   "outputs": [
    {
     "data": {
      "image/png": "[encoded data removed]",
      "text/plain": [
       "<Figure size 216x288 with 1 Axes>"
      ]
     },
     "metadata": {
      "needs_background": "light"
     },
     "output_type": "display_data"
    }
   ],
   "source": [
    "df.groupby('Target')['Months_Inactive_12_mon'].mean().plot(kind='bar', \n",
    "                                                           color=['#D1B375', '#BAE6B3'], \n",
    "                                                           edgecolor='black',\n",
    "                                                           figsize=(3,4));\n",
    "\n",
    "plt.title(\"Customer's Months Inactive\", size=12);\n",
    "plt.ylabel(\"Months Inactive (average)\", size=9);\n",
    "plt.yticks(size=9)\n",
    "plt.xticks(size=9)\n",
    "plt.xticks([0, 1], ['Attrited', 'Existing'], rotation=0);\n",
    "plt.xlabel(\"\");"
   ]
  },
  {
   "cell_type": "markdown",
   "id": "60b89738",
   "metadata": {},
   "source": [
    "### Number of Products per Client"
   ]
  },
  {
   "cell_type": "code",
   "execution_count": 17,
   "id": "fa34ea78",
   "metadata": {},
   "outputs": [
    {
     "data": {
      "text/html": [
       "<div>\n",
       "<style scoped>\n",
       "    .dataframe tbody tr th:only-of-type {\n",
       "        vertical-align: middle;\n",
       "    }\n",
       "\n",
       "    .dataframe tbody tr th {\n",
       "        vertical-align: top;\n",
       "    }\n",
       "\n",
       "    .dataframe thead th {\n",
       "        text-align: right;\n",
       "    }\n",
       "</style>\n",
       "<table border=\"1\" class=\"dataframe\">\n",
       "  <thead>\n",
       "    <tr style=\"text-align: right;\">\n",
       "      <th></th>\n",
       "      <th>count</th>\n",
       "      <th>mean</th>\n",
       "      <th>std</th>\n",
       "      <th>min</th>\n",
       "      <th>25%</th>\n",
       "      <th>50%</th>\n",
       "      <th>75%</th>\n",
       "      <th>max</th>\n",
       "    </tr>\n",
       "    <tr>\n",
       "      <th>Target</th>\n",
       "      <th></th>\n",
       "      <th></th>\n",
       "      <th></th>\n",
       "      <th></th>\n",
       "      <th></th>\n",
       "      <th></th>\n",
       "      <th></th>\n",
       "      <th></th>\n",
       "    </tr>\n",
       "  </thead>\n",
       "  <tbody>\n",
       "    <tr>\n",
       "      <th>Attrited Customer</th>\n",
       "      <td>1561.0</td>\n",
       "      <td>3.294683</td>\n",
       "      <td>1.584064</td>\n",
       "      <td>1.0</td>\n",
       "      <td>2.0</td>\n",
       "      <td>3.0</td>\n",
       "      <td>5.0</td>\n",
       "      <td>6.0</td>\n",
       "    </tr>\n",
       "    <tr>\n",
       "      <th>Existing Customer</th>\n",
       "      <td>8235.0</td>\n",
       "      <td>3.910504</td>\n",
       "      <td>1.529765</td>\n",
       "      <td>1.0</td>\n",
       "      <td>3.0</td>\n",
       "      <td>4.0</td>\n",
       "      <td>5.0</td>\n",
       "      <td>6.0</td>\n",
       "    </tr>\n",
       "  </tbody>\n",
       "</table>\n",
       "</div>"
      ],
      "text/plain": [
       "                    count      mean       std  min  25%  50%  75%  max\n",
       "Target                                                                \n",
       "Attrited Customer  1561.0  3.294683  1.584064  1.0  2.0  3.0  5.0  6.0\n",
       "Existing Customer  8235.0  3.910504  1.529765  1.0  3.0  4.0  5.0  6.0"
      ]
     },
     "execution_count": 17,
     "metadata": {},
     "output_type": "execute_result"
    }
   ],
   "source": [
    "df.groupby('Target')['Total_Relationship_Count'].describe()"
   ]
  },
  {
   "cell_type": "code",
   "execution_count": 18,
   "id": "c8a78f80",
   "metadata": {},
   "outputs": [],
   "source": [
    "df_relation['Total_Relationship_Count'] = pd.cut(df_relation['Total_Relationship_Count'], \n",
    "                                                 bins=[0, 2, 4, 6])"
   ]
  },
  {
   "cell_type": "code",
   "execution_count": 27,
   "id": "bb0d43c2",
   "metadata": {},
   "outputs": [],
   "source": [
    "rel_count = df_relation.groupby(['Target', 'Total_Relationship_Count'])[['ones']].count()\n",
    "\n",
    "rel_count = rel_count.groupby(level=0).apply(lambda x: x / x.sum()*100)"
   ]
  },
  {
   "cell_type": "code",
   "execution_count": 29,
   "id": "62cabeba",
   "metadata": {},
   "outputs": [
    {
     "data": {
      "text/html": [
       "<div>\n",
       "<style scoped>\n",
       "    .dataframe tbody tr th:only-of-type {\n",
       "        vertical-align: middle;\n",
       "    }\n",
       "\n",
       "    .dataframe tbody tr th {\n",
       "        vertical-align: top;\n",
       "    }\n",
       "\n",
       "    .dataframe thead th {\n",
       "        text-align: right;\n",
       "    }\n",
       "</style>\n",
       "<table border=\"1\" class=\"dataframe\">\n",
       "  <thead>\n",
       "    <tr style=\"text-align: right;\">\n",
       "      <th></th>\n",
       "      <th></th>\n",
       "      <th>ones</th>\n",
       "    </tr>\n",
       "    <tr>\n",
       "      <th>Target</th>\n",
       "      <th>Total_Relationship_Count</th>\n",
       "      <th></th>\n",
       "    </tr>\n",
       "  </thead>\n",
       "  <tbody>\n",
       "    <tr>\n",
       "      <th rowspan=\"3\" valign=\"top\">Attrited Customer</th>\n",
       "      <th>(0, 2]</th>\n",
       "      <td>35.618193</td>\n",
       "    </tr>\n",
       "    <tr>\n",
       "      <th>(2, 4]</th>\n",
       "      <td>38.052530</td>\n",
       "    </tr>\n",
       "    <tr>\n",
       "      <th>(4, 6]</th>\n",
       "      <td>26.329276</td>\n",
       "    </tr>\n",
       "    <tr>\n",
       "      <th rowspan=\"3\" valign=\"top\">Existing Customer</th>\n",
       "      <th>(0, 2]</th>\n",
       "      <td>18.627808</td>\n",
       "    </tr>\n",
       "    <tr>\n",
       "      <th>(2, 4]</th>\n",
       "      <td>42.210079</td>\n",
       "    </tr>\n",
       "    <tr>\n",
       "      <th>(4, 6]</th>\n",
       "      <td>39.162113</td>\n",
       "    </tr>\n",
       "  </tbody>\n",
       "</table>\n",
       "</div>"
      ],
      "text/plain": [
       "                                                 ones\n",
       "Target            Total_Relationship_Count           \n",
       "Attrited Customer (0, 2]                    35.618193\n",
       "                  (2, 4]                    38.052530\n",
       "                  (4, 6]                    26.329276\n",
       "Existing Customer (0, 2]                    18.627808\n",
       "                  (2, 4]                    42.210079\n",
       "                  (4, 6]                    39.162113"
      ]
     },
     "execution_count": 29,
     "metadata": {},
     "output_type": "execute_result"
    }
   ],
   "source": [
    "rel_count"
   ]
  },
  {
   "cell_type": "code",
   "execution_count": 38,
   "id": "1bb647c1",
   "metadata": {},
   "outputs": [
    {
     "data": {
      "image/png": "[encoded data removed]",
      "text/plain": [
       "<Figure size 216x288 with 1 Axes>"
      ]
     },
     "metadata": {
      "needs_background": "light"
     },
     "output_type": "display_data"
    },
    {
     "data": {
      "image/png": "[encoded data removed]",
      "text/plain": [
       "<Figure size 216x288 with 1 Axes>"
      ]
     },
     "metadata": {
      "needs_background": "light"
     },
     "output_type": "display_data"
    }
   ],
   "source": [
    "# attrited customers\n",
    "rel_count.reset_index('Target').iloc[:3, 1:].plot(kind='bar', \n",
    "                                                     figsize=(3,4), \n",
    "                                                     legend=None,\n",
    "                                                     color='#D1B375',\n",
    "                                                     edgecolor='black');\n",
    "\n",
    "plt.title(\"Number of Products of \\nAttrited Customers\", size=12);\n",
    "plt.ylabel(\"Products\", size=9);\n",
    "plt.xticks(size=9, rotation=0)\n",
    "plt.yticks(size=9)\n",
    "plt.xlabel(\"\");\n",
    "\n",
    "# existing customers\n",
    "rel_count.reset_index('Target').iloc[3:, 1:].plot(kind='bar', \n",
    "                                                     figsize=(3,4), \n",
    "                                                     legend=None,\n",
    "                                                     color='#BAE6B3',\n",
    "                                                     edgecolor='black');\n",
    "\n",
    "plt.title(\"Number of Products of \\nExisting Customers\", size=12);\n",
    "plt.ylabel(\"Products\", size=9);\n",
    "plt.xticks(size=9, rotation=0)\n",
    "plt.yticks(size=9)\n",
    "plt.xlabel(\"\");\n"
   ]
  }
 ],
 "metadata": {
  "kernelspec": {
   "display_name": "Python 3",
   "language": "python",
   "name": "python3"
  },
  "language_info": {
   "codemirror_mode": {
    "name": "ipython",
    "version": 3
   },
   "file_extension": ".py",
   "mimetype": "text/x-python",
   "name": "python",
   "nbconvert_exporter": "python",
   "pygments_lexer": "ipython3",
   "version": "3.8.8"
  }
 },
 "nbformat": 4,
 "nbformat_minor": 5
}
