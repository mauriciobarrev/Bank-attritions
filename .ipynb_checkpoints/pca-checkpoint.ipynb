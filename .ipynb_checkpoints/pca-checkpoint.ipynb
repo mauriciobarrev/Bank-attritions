{
 "cells": [
  {
   "cell_type": "markdown",
   "id": "8b8aaa5d",
   "metadata": {},
   "source": [
    "Let's apply a Dimensionality Reduction using PCA. Then, in the modeling process I'll compare between the datasets using PCA and the one with features selected to finally decide which model works better."
   ]
  },
  {
   "cell_type": "markdown",
   "id": "82b5cc80",
   "metadata": {},
   "source": [
    "_To use this algorithm, I'll use numeric columns of the original dataset_"
   ]
  },
  {
   "cell_type": "code",
   "execution_count": 23,
   "id": "c17ef179",
   "metadata": {},
   "outputs": [],
   "source": [
    "import pandas as pd\n",
    "import numpy as np\n",
    "import matplotlib.pyplot as plt\n",
    "\n",
    "from sklearn.decomposition import PCA\n",
    "from sklearn.preprocessing import StandardScaler"
   ]
  },
  {
   "cell_type": "code",
   "execution_count": 2,
   "id": "2c706a95",
   "metadata": {},
   "outputs": [],
   "source": [
    "dir_in = \"C:/Users/barre/Desktop/Machine Learning/projects/bank/in/{}\""
   ]
  },
  {
   "cell_type": "code",
   "execution_count": 3,
   "id": "22a5a2fb",
   "metadata": {},
   "outputs": [
    {
     "data": {
      "text/html": [
       "<div>\n",
       "<style scoped>\n",
       "    .dataframe tbody tr th:only-of-type {\n",
       "        vertical-align: middle;\n",
       "    }\n",
       "\n",
       "    .dataframe tbody tr th {\n",
       "        vertical-align: top;\n",
       "    }\n",
       "\n",
       "    .dataframe thead th {\n",
       "        text-align: right;\n",
       "    }\n",
       "</style>\n",
       "<table border=\"1\" class=\"dataframe\">\n",
       "  <thead>\n",
       "    <tr style=\"text-align: right;\">\n",
       "      <th></th>\n",
       "      <th>CLIENTNUM</th>\n",
       "      <th>Attrition_Flag</th>\n",
       "      <th>Customer_Age</th>\n",
       "      <th>Gender</th>\n",
       "      <th>Dependent_count</th>\n",
       "      <th>Education_Level</th>\n",
       "      <th>Marital_Status</th>\n",
       "      <th>Income_Category</th>\n",
       "      <th>Card_Category</th>\n",
       "      <th>Months_on_book</th>\n",
       "      <th>Total_Relationship_Count</th>\n",
       "      <th>Months_Inactive_12_mon</th>\n",
       "      <th>Credit_Limit</th>\n",
       "      <th>Total_Revolving_Bal</th>\n",
       "      <th>Total_Trans_Amt</th>\n",
       "      <th>Total_Trans_Ct</th>\n",
       "    </tr>\n",
       "  </thead>\n",
       "  <tbody>\n",
       "    <tr>\n",
       "      <th>3415</th>\n",
       "      <td>827970933</td>\n",
       "      <td>Existing Customer</td>\n",
       "      <td>46</td>\n",
       "      <td>F</td>\n",
       "      <td>4</td>\n",
       "      <td>Graduate</td>\n",
       "      <td>Married</td>\n",
       "      <td>Less than $40K</td>\n",
       "      <td>Blue</td>\n",
       "      <td>42</td>\n",
       "      <td>4</td>\n",
       "      <td>2</td>\n",
       "      <td>3504.0</td>\n",
       "      <td>1698</td>\n",
       "      <td>4439</td>\n",
       "      <td>70</td>\n",
       "    </tr>\n",
       "    <tr>\n",
       "      <th>5703</th>\n",
       "      <td>720281508</td>\n",
       "      <td>Existing Customer</td>\n",
       "      <td>44</td>\n",
       "      <td>F</td>\n",
       "      <td>2</td>\n",
       "      <td>Doctorate</td>\n",
       "      <td>Divorced</td>\n",
       "      <td>Less than $40K</td>\n",
       "      <td>Blue</td>\n",
       "      <td>34</td>\n",
       "      <td>3</td>\n",
       "      <td>1</td>\n",
       "      <td>2406.0</td>\n",
       "      <td>1491</td>\n",
       "      <td>4625</td>\n",
       "      <td>91</td>\n",
       "    </tr>\n",
       "    <tr>\n",
       "      <th>26</th>\n",
       "      <td>720466383</td>\n",
       "      <td>Existing Customer</td>\n",
       "      <td>59</td>\n",
       "      <td>M</td>\n",
       "      <td>1</td>\n",
       "      <td>High School</td>\n",
       "      <td>Unknown</td>\n",
       "      <td>$40K - $60K</td>\n",
       "      <td>Blue</td>\n",
       "      <td>46</td>\n",
       "      <td>4</td>\n",
       "      <td>1</td>\n",
       "      <td>14784.0</td>\n",
       "      <td>1374</td>\n",
       "      <td>1197</td>\n",
       "      <td>23</td>\n",
       "    </tr>\n",
       "  </tbody>\n",
       "</table>\n",
       "</div>"
      ],
      "text/plain": [
       "      CLIENTNUM     Attrition_Flag  Customer_Age Gender  Dependent_count  \\\n",
       "3415  827970933  Existing Customer            46      F                4   \n",
       "5703  720281508  Existing Customer            44      F                2   \n",
       "26    720466383  Existing Customer            59      M                1   \n",
       "\n",
       "     Education_Level Marital_Status Income_Category Card_Category  \\\n",
       "3415        Graduate        Married  Less than $40K          Blue   \n",
       "5703       Doctorate       Divorced  Less than $40K          Blue   \n",
       "26       High School        Unknown     $40K - $60K          Blue   \n",
       "\n",
       "      Months_on_book  Total_Relationship_Count  Months_Inactive_12_mon  \\\n",
       "3415              42                         4                       2   \n",
       "5703              34                         3                       1   \n",
       "26                46                         4                       1   \n",
       "\n",
       "      Credit_Limit  Total_Revolving_Bal  Total_Trans_Amt  Total_Trans_Ct  \n",
       "3415        3504.0                 1698             4439              70  \n",
       "5703        2406.0                 1491             4625              91  \n",
       "26         14784.0                 1374             1197              23  "
      ]
     },
     "execution_count": 3,
     "metadata": {},
     "output_type": "execute_result"
    }
   ],
   "source": [
    "df = pd.read_csv(dir_in.format('BankData.csv'))\n",
    "df.sample(3)"
   ]
  },
  {
   "cell_type": "code",
   "execution_count": 5,
   "id": "a8440279",
   "metadata": {},
   "outputs": [
    {
     "data": {
      "text/plain": [
       "CLIENTNUM                     int64\n",
       "Attrition_Flag               object\n",
       "Customer_Age                  int64\n",
       "Gender                       object\n",
       "Dependent_count               int64\n",
       "Education_Level              object\n",
       "Marital_Status               object\n",
       "Income_Category              object\n",
       "Card_Category                object\n",
       "Months_on_book                int64\n",
       "Total_Relationship_Count      int64\n",
       "Months_Inactive_12_mon        int64\n",
       "Credit_Limit                float64\n",
       "Total_Revolving_Bal           int64\n",
       "Total_Trans_Amt               int64\n",
       "Total_Trans_Ct                int64\n",
       "dtype: object"
      ]
     },
     "execution_count": 5,
     "metadata": {},
     "output_type": "execute_result"
    }
   ],
   "source": [
    "df.dtypes"
   ]
  },
  {
   "cell_type": "code",
   "execution_count": 11,
   "id": "d80427bd",
   "metadata": {},
   "outputs": [],
   "source": [
    "df['CLIENTNUM'] = df['CLIENTNUM'].astype('object')"
   ]
  },
  {
   "cell_type": "code",
   "execution_count": 12,
   "id": "29d53ea8",
   "metadata": {},
   "outputs": [],
   "source": [
    "numeric = (df.dtypes == 'int64') | (df.dtypes == 'float64')"
   ]
  },
  {
   "cell_type": "code",
   "execution_count": 13,
   "id": "b441b3db",
   "metadata": {},
   "outputs": [],
   "source": [
    "mask = [el for el in numeric.index if numeric[el]]\n",
    "df_num = df[mask]"
   ]
  },
  {
   "cell_type": "code",
   "execution_count": 14,
   "id": "8aa0396e",
   "metadata": {},
   "outputs": [
    {
     "data": {
      "text/html": [
       "<div>\n",
       "<style scoped>\n",
       "    .dataframe tbody tr th:only-of-type {\n",
       "        vertical-align: middle;\n",
       "    }\n",
       "\n",
       "    .dataframe tbody tr th {\n",
       "        vertical-align: top;\n",
       "    }\n",
       "\n",
       "    .dataframe thead th {\n",
       "        text-align: right;\n",
       "    }\n",
       "</style>\n",
       "<table border=\"1\" class=\"dataframe\">\n",
       "  <thead>\n",
       "    <tr style=\"text-align: right;\">\n",
       "      <th></th>\n",
       "      <th>Customer_Age</th>\n",
       "      <th>Dependent_count</th>\n",
       "      <th>Months_on_book</th>\n",
       "      <th>Total_Relationship_Count</th>\n",
       "      <th>Months_Inactive_12_mon</th>\n",
       "      <th>Credit_Limit</th>\n",
       "      <th>Total_Revolving_Bal</th>\n",
       "      <th>Total_Trans_Amt</th>\n",
       "      <th>Total_Trans_Ct</th>\n",
       "    </tr>\n",
       "  </thead>\n",
       "  <tbody>\n",
       "    <tr>\n",
       "      <th>0</th>\n",
       "      <td>45</td>\n",
       "      <td>3</td>\n",
       "      <td>39</td>\n",
       "      <td>5</td>\n",
       "      <td>1</td>\n",
       "      <td>12691.0</td>\n",
       "      <td>777</td>\n",
       "      <td>1144</td>\n",
       "      <td>42</td>\n",
       "    </tr>\n",
       "    <tr>\n",
       "      <th>1</th>\n",
       "      <td>49</td>\n",
       "      <td>5</td>\n",
       "      <td>44</td>\n",
       "      <td>6</td>\n",
       "      <td>1</td>\n",
       "      <td>8256.0</td>\n",
       "      <td>864</td>\n",
       "      <td>1291</td>\n",
       "      <td>33</td>\n",
       "    </tr>\n",
       "  </tbody>\n",
       "</table>\n",
       "</div>"
      ],
      "text/plain": [
       "   Customer_Age  Dependent_count  Months_on_book  Total_Relationship_Count  \\\n",
       "0            45                3              39                         5   \n",
       "1            49                5              44                         6   \n",
       "\n",
       "   Months_Inactive_12_mon  Credit_Limit  Total_Revolving_Bal  Total_Trans_Amt  \\\n",
       "0                       1       12691.0                  777             1144   \n",
       "1                       1        8256.0                  864             1291   \n",
       "\n",
       "   Total_Trans_Ct  \n",
       "0              42  \n",
       "1              33  "
      ]
     },
     "execution_count": 14,
     "metadata": {},
     "output_type": "execute_result"
    }
   ],
   "source": [
    "df_num.head(2)"
   ]
  },
  {
   "cell_type": "code",
   "execution_count": 17,
   "id": "13f416f1",
   "metadata": {},
   "outputs": [
    {
     "data": {
      "text/plain": [
       "Index(['Customer_Age', 'Dependent_count', 'Months_on_book',\n",
       "       'Total_Relationship_Count', 'Months_Inactive_12_mon', 'Credit_Limit',\n",
       "       'Total_Revolving_Bal', 'Total_Trans_Amt', 'Total_Trans_Ct'],\n",
       "      dtype='object')"
      ]
     },
     "execution_count": 17,
     "metadata": {},
     "output_type": "execute_result"
    }
   ],
   "source": [
    "df_num.columns"
   ]
  },
  {
   "cell_type": "code",
   "execution_count": 18,
   "id": "6d0547b9",
   "metadata": {},
   "outputs": [],
   "source": [
    "# managing outliers on Month_Inactive_12_mon (same as preprocessing.ipynb)\n",
    "mask = (df_num['Months_Inactive_12_mon'] < 5) & (df_num['Months_Inactive_12_mon'] > 0.5)\n",
    "df_num = df_num[mask]"
   ]
  },
  {
   "cell_type": "code",
   "execution_count": 24,
   "id": "c6cbc19d",
   "metadata": {},
   "outputs": [
    {
     "data": {
      "text/plain": [
       "array([[-0.15603865,  0.50218374,  0.40065966, ..., -0.47680556,\n",
       "        -0.95822465, -0.97028562],\n",
       "       [ 0.343489  ,  2.04165859,  1.0307547 , ..., -0.36992621,\n",
       "        -0.91501112, -1.35311621],\n",
       "       [ 0.59325282,  0.50218374,  0.02260263, ..., -1.43134871,\n",
       "        -0.73980522, -1.90609373],\n",
       "       ...,\n",
       "       [-0.28092056, -1.03729112,  0.02260263, ..., -1.43134871,\n",
       "         1.73071557, -0.20462444],\n",
       "       [-2.02926731, -0.26755369,  0.02260263, ..., -1.43134871,\n",
       "         1.17334914, -0.11955097],\n",
       "       [-0.40580247, -0.26755369, -1.36360646, ...,  0.97773639,\n",
       "         1.73159747, -0.1620877 ]])"
      ]
     },
     "execution_count": 24,
     "metadata": {},
     "output_type": "execute_result"
    }
   ],
   "source": [
    "# in PCA we must work with standarized values\n",
    "df_scaled = StandardScaler().fit_transform(df_num)\n",
    "df_scaled"
   ]
  },
  {
   "cell_type": "code",
   "execution_count": 25,
   "id": "dd5c1ad9",
   "metadata": {},
   "outputs": [
    {
     "data": {
      "image/png": "[encoded data removed]",
      "text/plain": [
       "<Figure size 432x360 with 1 Axes>"
      ]
     },
     "metadata": {
      "needs_background": "light"
     },
     "output_type": "display_data"
    }
   ],
   "source": [
    "pca = PCA(n_components=3)\n",
    "\n",
    "pca.fit(df_scaled)\n",
    "X_pca = pca.fit_transform(df_scaled)\n",
    "\n",
    "# checking variance\n",
    "plt.figure(figsize=(6, 5))\n",
    "plt.plot(range(len(pca.explained_variance_)),\n",
    "         pca.explained_variance_ratio_);"
   ]
  },
  {
   "cell_type": "markdown",
   "id": "2cc41750",
   "metadata": {},
   "source": [
    "First feature represents more than 22% of the information, the second one near 20% and the last one less than 12%"
   ]
  },
  {
   "cell_type": "markdown",
   "id": "6092c804",
   "metadata": {},
   "source": [
    "# Saving"
   ]
  },
  {
   "cell_type": "code",
   "execution_count": 33,
   "id": "75525e55",
   "metadata": {},
   "outputs": [
    {
     "data": {
      "text/html": [
       "<div>\n",
       "<style scoped>\n",
       "    .dataframe tbody tr th:only-of-type {\n",
       "        vertical-align: middle;\n",
       "    }\n",
       "\n",
       "    .dataframe tbody tr th {\n",
       "        vertical-align: top;\n",
       "    }\n",
       "\n",
       "    .dataframe thead th {\n",
       "        text-align: right;\n",
       "    }\n",
       "</style>\n",
       "<table border=\"1\" class=\"dataframe\">\n",
       "  <thead>\n",
       "    <tr style=\"text-align: right;\">\n",
       "      <th></th>\n",
       "      <th>CLIENTNUM</th>\n",
       "      <th>Customer_Age</th>\n",
       "      <th>Dependent_count</th>\n",
       "      <th>Education_Level</th>\n",
       "      <th>Income_Category</th>\n",
       "      <th>Card_Category</th>\n",
       "      <th>Months_on_book</th>\n",
       "      <th>Total_Relationship_Count</th>\n",
       "      <th>Months_Inactive_12_mon</th>\n",
       "      <th>Credit_Limit</th>\n",
       "      <th>Total_Revolving_Bal</th>\n",
       "      <th>Total_Trans_Amt</th>\n",
       "      <th>Total_Trans_Ct</th>\n",
       "      <th>gender_F</th>\n",
       "      <th>gender_M</th>\n",
       "      <th>marital_Divorced</th>\n",
       "      <th>marital_Married</th>\n",
       "      <th>marital_Single</th>\n",
       "      <th>marital_Unknown</th>\n",
       "      <th>Target</th>\n",
       "    </tr>\n",
       "  </thead>\n",
       "  <tbody>\n",
       "    <tr>\n",
       "      <th>4258</th>\n",
       "      <td>715762083</td>\n",
       "      <td>46</td>\n",
       "      <td>0</td>\n",
       "      <td>1</td>\n",
       "      <td>3</td>\n",
       "      <td>2</td>\n",
       "      <td>36</td>\n",
       "      <td>6</td>\n",
       "      <td>3</td>\n",
       "      <td>30501.0</td>\n",
       "      <td>2030</td>\n",
       "      <td>2525</td>\n",
       "      <td>45</td>\n",
       "      <td>0</td>\n",
       "      <td>1</td>\n",
       "      <td>0</td>\n",
       "      <td>0</td>\n",
       "      <td>1</td>\n",
       "      <td>0</td>\n",
       "      <td>1</td>\n",
       "    </tr>\n",
       "    <tr>\n",
       "      <th>3299</th>\n",
       "      <td>713343333</td>\n",
       "      <td>42</td>\n",
       "      <td>3</td>\n",
       "      <td>0</td>\n",
       "      <td>2</td>\n",
       "      <td>1</td>\n",
       "      <td>29</td>\n",
       "      <td>4</td>\n",
       "      <td>3</td>\n",
       "      <td>6698.0</td>\n",
       "      <td>1327</td>\n",
       "      <td>4065</td>\n",
       "      <td>77</td>\n",
       "      <td>0</td>\n",
       "      <td>1</td>\n",
       "      <td>0</td>\n",
       "      <td>1</td>\n",
       "      <td>0</td>\n",
       "      <td>0</td>\n",
       "      <td>1</td>\n",
       "    </tr>\n",
       "    <tr>\n",
       "      <th>8429</th>\n",
       "      <td>812618883</td>\n",
       "      <td>47</td>\n",
       "      <td>2</td>\n",
       "      <td>2</td>\n",
       "      <td>0</td>\n",
       "      <td>2</td>\n",
       "      <td>42</td>\n",
       "      <td>1</td>\n",
       "      <td>2</td>\n",
       "      <td>34516.0</td>\n",
       "      <td>2019</td>\n",
       "      <td>7774</td>\n",
       "      <td>95</td>\n",
       "      <td>0</td>\n",
       "      <td>1</td>\n",
       "      <td>1</td>\n",
       "      <td>0</td>\n",
       "      <td>0</td>\n",
       "      <td>0</td>\n",
       "      <td>1</td>\n",
       "    </tr>\n",
       "  </tbody>\n",
       "</table>\n",
       "</div>"
      ],
      "text/plain": [
       "      CLIENTNUM  Customer_Age  Dependent_count  Education_Level  \\\n",
       "4258  715762083            46                0                1   \n",
       "3299  713343333            42                3                0   \n",
       "8429  812618883            47                2                2   \n",
       "\n",
       "      Income_Category  Card_Category  Months_on_book  \\\n",
       "4258                3              2              36   \n",
       "3299                2              1              29   \n",
       "8429                0              2              42   \n",
       "\n",
       "      Total_Relationship_Count  Months_Inactive_12_mon  Credit_Limit  \\\n",
       "4258                         6                       3       30501.0   \n",
       "3299                         4                       3        6698.0   \n",
       "8429                         1                       2       34516.0   \n",
       "\n",
       "      Total_Revolving_Bal  Total_Trans_Amt  Total_Trans_Ct  gender_F  \\\n",
       "4258                 2030             2525              45         0   \n",
       "3299                 1327             4065              77         0   \n",
       "8429                 2019             7774              95         0   \n",
       "\n",
       "      gender_M  marital_Divorced  marital_Married  marital_Single  \\\n",
       "4258         1                 0                0               1   \n",
       "3299         1                 0                1               0   \n",
       "8429         1                 1                0               0   \n",
       "\n",
       "      marital_Unknown  Target  \n",
       "4258                0       1  \n",
       "3299                0       1  \n",
       "8429                0       1  "
      ]
     },
     "execution_count": 33,
     "metadata": {},
     "output_type": "execute_result"
    }
   ],
   "source": [
    "df_clean = pd.read_csv(dir_in.format('data_processed.csv'))\n",
    "df_clean.sample(3)"
   ]
  },
  {
   "cell_type": "code",
   "execution_count": 35,
   "id": "6321ff4c",
   "metadata": {},
   "outputs": [],
   "source": [
    "X = pd.DataFrame(X_pca, columns=['f1', 'f2', 'f3'])\n",
    "y = df_clean['Target']"
   ]
  },
  {
   "cell_type": "code",
   "execution_count": 38,
   "id": "4d50fa2f",
   "metadata": {},
   "outputs": [
    {
     "data": {
      "text/html": [
       "<div>\n",
       "<style scoped>\n",
       "    .dataframe tbody tr th:only-of-type {\n",
       "        vertical-align: middle;\n",
       "    }\n",
       "\n",
       "    .dataframe tbody tr th {\n",
       "        vertical-align: top;\n",
       "    }\n",
       "\n",
       "    .dataframe thead th {\n",
       "        text-align: right;\n",
       "    }\n",
       "</style>\n",
       "<table border=\"1\" class=\"dataframe\">\n",
       "  <thead>\n",
       "    <tr style=\"text-align: right;\">\n",
       "      <th></th>\n",
       "      <th>f1</th>\n",
       "      <th>f2</th>\n",
       "      <th>f3</th>\n",
       "      <th>Target</th>\n",
       "    </tr>\n",
       "  </thead>\n",
       "  <tbody>\n",
       "    <tr>\n",
       "      <th>0</th>\n",
       "      <td>-1.236407</td>\n",
       "      <td>-0.503494</td>\n",
       "      <td>0.910693</td>\n",
       "      <td>1</td>\n",
       "    </tr>\n",
       "    <tr>\n",
       "      <th>1</th>\n",
       "      <td>-1.827758</td>\n",
       "      <td>-0.191032</td>\n",
       "      <td>1.080123</td>\n",
       "      <td>1</td>\n",
       "    </tr>\n",
       "  </tbody>\n",
       "</table>\n",
       "</div>"
      ],
      "text/plain": [
       "         f1        f2        f3  Target\n",
       "0 -1.236407 -0.503494  0.910693       1\n",
       "1 -1.827758 -0.191032  1.080123       1"
      ]
     },
     "execution_count": 38,
     "metadata": {},
     "output_type": "execute_result"
    }
   ],
   "source": [
    "df_pca = pd.concat([X, y], axis=1)\n",
    "df_pca.head(2)"
   ]
  },
  {
   "cell_type": "code",
   "execution_count": 39,
   "id": "ff01685c",
   "metadata": {},
   "outputs": [],
   "source": [
    "df_pca.to_csv(dir_in.format('data_pca.csv'), sep=',', index=False)"
   ]
  }
 ],
 "metadata": {
  "kernelspec": {
   "display_name": "Python 3",
   "language": "python",
   "name": "python3"
  },
  "language_info": {
   "codemirror_mode": {
    "name": "ipython",
    "version": 3
   },
   "file_extension": ".py",
   "mimetype": "text/x-python",
   "name": "python",
   "nbconvert_exporter": "python",
   "pygments_lexer": "ipython3",
   "version": "3.8.8"
  }
 },
 "nbformat": 4,
 "nbformat_minor": 5
}
