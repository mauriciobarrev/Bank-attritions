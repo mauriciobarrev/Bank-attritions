{
 "cells": [
  {
   "cell_type": "markdown",
   "id": "e09eff9f",
   "metadata": {},
   "source": [
    "Remember our data is unbalanced with respect to target values (80%+ of values are existing customers).\n",
    "\n",
    "I'll manage this problem using oversample technique and compare with the original balance if the model has better results or not. Oversample helps us balancing values by generating copies of the data with less lines."
   ]
  },
  {
   "cell_type": "code",
   "execution_count": 1,
   "id": "4d5e4f08",
   "metadata": {},
   "outputs": [],
   "source": [
    "import pandas as pd\n",
    "import numpy as np\n",
    "\n",
    "from imblearn.over_sampling import RandomOverSampler\n",
    "\n",
    "from sklearn.model_selection import train_test_split"
   ]
  },
  {
   "cell_type": "code",
   "execution_count": 2,
   "id": "d5278f6a",
   "metadata": {},
   "outputs": [],
   "source": [
    "dir_in = \"C:/Users/barre/Desktop/Machine Learning/projects/bank/in/{}\""
   ]
  },
  {
   "cell_type": "code",
   "execution_count": 3,
   "id": "99a5c20a",
   "metadata": {},
   "outputs": [
    {
     "data": {
      "text/html": [
       "<div>\n",
       "<style scoped>\n",
       "    .dataframe tbody tr th:only-of-type {\n",
       "        vertical-align: middle;\n",
       "    }\n",
       "\n",
       "    .dataframe tbody tr th {\n",
       "        vertical-align: top;\n",
       "    }\n",
       "\n",
       "    .dataframe thead th {\n",
       "        text-align: right;\n",
       "    }\n",
       "</style>\n",
       "<table border=\"1\" class=\"dataframe\">\n",
       "  <thead>\n",
       "    <tr style=\"text-align: right;\">\n",
       "      <th></th>\n",
       "      <th>Total_Trans_Ct</th>\n",
       "      <th>Total_Revolving_Bal</th>\n",
       "      <th>Total_Relationship_Count</th>\n",
       "      <th>Months_Inactive_12_mon</th>\n",
       "      <th>Target</th>\n",
       "    </tr>\n",
       "  </thead>\n",
       "  <tbody>\n",
       "    <tr>\n",
       "      <th>0</th>\n",
       "      <td>42</td>\n",
       "      <td>777</td>\n",
       "      <td>5</td>\n",
       "      <td>1</td>\n",
       "      <td>1</td>\n",
       "    </tr>\n",
       "    <tr>\n",
       "      <th>1</th>\n",
       "      <td>33</td>\n",
       "      <td>864</td>\n",
       "      <td>6</td>\n",
       "      <td>1</td>\n",
       "      <td>1</td>\n",
       "    </tr>\n",
       "    <tr>\n",
       "      <th>2</th>\n",
       "      <td>20</td>\n",
       "      <td>0</td>\n",
       "      <td>4</td>\n",
       "      <td>1</td>\n",
       "      <td>1</td>\n",
       "    </tr>\n",
       "  </tbody>\n",
       "</table>\n",
       "</div>"
      ],
      "text/plain": [
       "   Total_Trans_Ct  Total_Revolving_Bal  Total_Relationship_Count  \\\n",
       "0              42                  777                         5   \n",
       "1              33                  864                         6   \n",
       "2              20                    0                         4   \n",
       "\n",
       "   Months_Inactive_12_mon  Target  \n",
       "0                       1       1  \n",
       "1                       1       1  \n",
       "2                       1       1  "
      ]
     },
     "execution_count": 3,
     "metadata": {},
     "output_type": "execute_result"
    }
   ],
   "source": [
    "df = pd.read_csv(dir_in.format('data_selection.csv'))\n",
    "df.head(3)"
   ]
  },
  {
   "cell_type": "code",
   "execution_count": 4,
   "id": "3e53fdaf",
   "metadata": {},
   "outputs": [],
   "source": [
    "# features & target\n",
    "X = df.drop('Target', axis=1)\n",
    "y = df['Target']"
   ]
  },
  {
   "cell_type": "code",
   "execution_count": 5,
   "id": "26d6f3c8",
   "metadata": {},
   "outputs": [
    {
     "name": "stdout",
     "output_type": "stream",
     "text": [
      "Existing Customers\n",
      "True     8235\n",
      "False    1561\n",
      "Name: Target, dtype: int64\n"
     ]
    }
   ],
   "source": [
    "# amount of values of existing customers\n",
    "print(\"Existing Customers\")\n",
    "print((y == 1).value_counts())"
   ]
  },
  {
   "cell_type": "code",
   "execution_count": 6,
   "id": "dc51767d",
   "metadata": {},
   "outputs": [
    {
     "name": "stdout",
     "output_type": "stream",
     "text": [
      "3529.2857142857156\n"
     ]
    }
   ],
   "source": [
    "# how many values of existing customers we need to obtain a relation of 30-70%\n",
    "print((8235 / 0.7) - 8235)"
   ]
  },
  {
   "cell_type": "code",
   "execution_count": 7,
   "id": "93bf162a",
   "metadata": {},
   "outputs": [
    {
     "name": "stdout",
     "output_type": "stream",
     "text": [
      "---------- Proportion -----------\n",
      "% Attrited Customers: 0.30004249893752655\n",
      "% Existing Customers:  0.6999575010624735\n"
     ]
    }
   ],
   "source": [
    "ros = RandomOverSampler(sampling_strategy={1: 8235, 0: 3530})\n",
    "\n",
    "# oversampling\n",
    "X_ros, y_ros = ros.fit_resample(X, y)\n",
    "\n",
    "# checking balance\n",
    "print(\"---------- Proportion -----------\")\n",
    "print(\"% Attrited Customers:\", len(y_ros[(y_ros == 0)]) / len(y_ros))\n",
    "print(\"% Existing Customers: \", len(y_ros[(y_ros == 1)]) / len(y_ros))"
   ]
  },
  {
   "cell_type": "markdown",
   "id": "481e507b",
   "metadata": {},
   "source": [
    "# Saving"
   ]
  },
  {
   "cell_type": "code",
   "execution_count": 8,
   "id": "f7fd5089",
   "metadata": {},
   "outputs": [],
   "source": [
    "cols = ['Total_Trans_Ct', \n",
    "        'Total_Revolving_Bal', \n",
    "        'Total_Relationship_Count', \n",
    "        'Months_Inactive_12_mon']\n",
    "\n",
    "X_ros = pd.DataFrame(X_ros, columns=cols)\n",
    "y_ros = pd.DataFrame(y_ros, columns=['Target'])"
   ]
  },
  {
   "cell_type": "code",
   "execution_count": 9,
   "id": "f8b3f838",
   "metadata": {},
   "outputs": [],
   "source": [
    "df_ros = pd.concat([X_ros, y_ros], axis=1)\n",
    "df_ros.to_csv(dir_in.format('data_balanced.csv'), sep=',', index=False)"
   ]
  }
 ],
 "metadata": {
  "kernelspec": {
   "display_name": "Python 3",
   "language": "python",
   "name": "python3"
  },
  "language_info": {
   "codemirror_mode": {
    "name": "ipython",
    "version": 3
   },
   "file_extension": ".py",
   "mimetype": "text/x-python",
   "name": "python",
   "nbconvert_exporter": "python",
   "pygments_lexer": "ipython3",
   "version": "3.8.8"
  }
 },
 "nbformat": 4,
 "nbformat_minor": 5
}
