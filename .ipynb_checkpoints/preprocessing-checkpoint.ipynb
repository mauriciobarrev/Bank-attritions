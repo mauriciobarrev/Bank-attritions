{
 "cells": [
  {
   "cell_type": "markdown",
   "id": "7c0fb80c",
   "metadata": {},
   "source": [
    "In the preprocessing part I'll clean the data to work with values that represents the right information we want and specifically get a control of the ethical aspects that can be involved."
   ]
  },
  {
   "cell_type": "code",
   "execution_count": 1,
   "id": "67e53ea1",
   "metadata": {},
   "outputs": [],
   "source": [
    "import pandas as pd\n",
    "import numpy as np\n",
    "import matplotlib.pyplot as plt\n",
    "import seaborn as sns"
   ]
  },
  {
   "cell_type": "code",
   "execution_count": 2,
   "id": "80c1b693",
   "metadata": {},
   "outputs": [],
   "source": [
    "dir_in = \"C:/Users/barre/Desktop/Machine Learning/projects/bank/in/{}\""
   ]
  },
  {
   "cell_type": "code",
   "execution_count": 3,
   "id": "2c0283ce",
   "metadata": {},
   "outputs": [
    {
     "data": {
      "text/html": [
       "<div>\n",
       "<style scoped>\n",
       "    .dataframe tbody tr th:only-of-type {\n",
       "        vertical-align: middle;\n",
       "    }\n",
       "\n",
       "    .dataframe tbody tr th {\n",
       "        vertical-align: top;\n",
       "    }\n",
       "\n",
       "    .dataframe thead th {\n",
       "        text-align: right;\n",
       "    }\n",
       "</style>\n",
       "<table border=\"1\" class=\"dataframe\">\n",
       "  <thead>\n",
       "    <tr style=\"text-align: right;\">\n",
       "      <th></th>\n",
       "      <th>CLIENTNUM</th>\n",
       "      <th>Attrition_Flag</th>\n",
       "      <th>Customer_Age</th>\n",
       "      <th>Gender</th>\n",
       "      <th>Dependent_count</th>\n",
       "      <th>Education_Level</th>\n",
       "      <th>Marital_Status</th>\n",
       "      <th>Income_Category</th>\n",
       "      <th>Card_Category</th>\n",
       "      <th>Months_on_book</th>\n",
       "      <th>Total_Relationship_Count</th>\n",
       "      <th>Months_Inactive_12_mon</th>\n",
       "      <th>Credit_Limit</th>\n",
       "      <th>Total_Revolving_Bal</th>\n",
       "      <th>Total_Trans_Amt</th>\n",
       "      <th>Total_Trans_Ct</th>\n",
       "    </tr>\n",
       "  </thead>\n",
       "  <tbody>\n",
       "    <tr>\n",
       "      <th>0</th>\n",
       "      <td>768805383</td>\n",
       "      <td>Existing Customer</td>\n",
       "      <td>45</td>\n",
       "      <td>M</td>\n",
       "      <td>3</td>\n",
       "      <td>High School</td>\n",
       "      <td>Married</td>\n",
       "      <td>$60K - $80K</td>\n",
       "      <td>Blue</td>\n",
       "      <td>39</td>\n",
       "      <td>5</td>\n",
       "      <td>1</td>\n",
       "      <td>12691.0</td>\n",
       "      <td>777</td>\n",
       "      <td>1144</td>\n",
       "      <td>42</td>\n",
       "    </tr>\n",
       "    <tr>\n",
       "      <th>1</th>\n",
       "      <td>818770008</td>\n",
       "      <td>Existing Customer</td>\n",
       "      <td>49</td>\n",
       "      <td>F</td>\n",
       "      <td>5</td>\n",
       "      <td>Graduate</td>\n",
       "      <td>Single</td>\n",
       "      <td>Less than $40K</td>\n",
       "      <td>Blue</td>\n",
       "      <td>44</td>\n",
       "      <td>6</td>\n",
       "      <td>1</td>\n",
       "      <td>8256.0</td>\n",
       "      <td>864</td>\n",
       "      <td>1291</td>\n",
       "      <td>33</td>\n",
       "    </tr>\n",
       "    <tr>\n",
       "      <th>2</th>\n",
       "      <td>713982108</td>\n",
       "      <td>Existing Customer</td>\n",
       "      <td>51</td>\n",
       "      <td>M</td>\n",
       "      <td>3</td>\n",
       "      <td>Graduate</td>\n",
       "      <td>Married</td>\n",
       "      <td>$80K - $120K</td>\n",
       "      <td>Blue</td>\n",
       "      <td>36</td>\n",
       "      <td>4</td>\n",
       "      <td>1</td>\n",
       "      <td>3418.0</td>\n",
       "      <td>0</td>\n",
       "      <td>1887</td>\n",
       "      <td>20</td>\n",
       "    </tr>\n",
       "  </tbody>\n",
       "</table>\n",
       "</div>"
      ],
      "text/plain": [
       "   CLIENTNUM     Attrition_Flag  Customer_Age Gender  Dependent_count  \\\n",
       "0  768805383  Existing Customer            45      M                3   \n",
       "1  818770008  Existing Customer            49      F                5   \n",
       "2  713982108  Existing Customer            51      M                3   \n",
       "\n",
       "  Education_Level Marital_Status Income_Category Card_Category  \\\n",
       "0     High School        Married     $60K - $80K          Blue   \n",
       "1        Graduate         Single  Less than $40K          Blue   \n",
       "2        Graduate        Married    $80K - $120K          Blue   \n",
       "\n",
       "   Months_on_book  Total_Relationship_Count  Months_Inactive_12_mon  \\\n",
       "0              39                         5                       1   \n",
       "1              44                         6                       1   \n",
       "2              36                         4                       1   \n",
       "\n",
       "   Credit_Limit  Total_Revolving_Bal  Total_Trans_Amt  Total_Trans_Ct  \n",
       "0       12691.0                  777             1144              42  \n",
       "1        8256.0                  864             1291              33  \n",
       "2        3418.0                    0             1887              20  "
      ]
     },
     "execution_count": 3,
     "metadata": {},
     "output_type": "execute_result"
    }
   ],
   "source": [
    "df = pd.read_csv(dir_in.format('BankData.csv'))\n",
    "df.head(3)"
   ]
  },
  {
   "cell_type": "code",
   "execution_count": 4,
   "id": "a4a456c5",
   "metadata": {},
   "outputs": [
    {
     "data": {
      "text/plain": [
       "(10127, 16)"
      ]
     },
     "execution_count": 4,
     "metadata": {},
     "output_type": "execute_result"
    }
   ],
   "source": [
    "df.shape"
   ]
  },
  {
   "cell_type": "code",
   "execution_count": 5,
   "id": "2e2f3a92",
   "metadata": {},
   "outputs": [
    {
     "name": "stdout",
     "output_type": "stream",
     "text": [
      "<class 'pandas.core.frame.DataFrame'>\n",
      "RangeIndex: 10127 entries, 0 to 10126\n",
      "Data columns (total 16 columns):\n",
      " #   Column                    Non-Null Count  Dtype  \n",
      "---  ------                    --------------  -----  \n",
      " 0   CLIENTNUM                 10127 non-null  int64  \n",
      " 1   Attrition_Flag            10127 non-null  object \n",
      " 2   Customer_Age              10127 non-null  int64  \n",
      " 3   Gender                    10127 non-null  object \n",
      " 4   Dependent_count           10127 non-null  int64  \n",
      " 5   Education_Level           10127 non-null  object \n",
      " 6   Marital_Status            10127 non-null  object \n",
      " 7   Income_Category           10127 non-null  object \n",
      " 8   Card_Category             10127 non-null  object \n",
      " 9   Months_on_book            10127 non-null  int64  \n",
      " 10  Total_Relationship_Count  10127 non-null  int64  \n",
      " 11  Months_Inactive_12_mon    10127 non-null  int64  \n",
      " 12  Credit_Limit              10127 non-null  float64\n",
      " 13  Total_Revolving_Bal       10127 non-null  int64  \n",
      " 14  Total_Trans_Amt           10127 non-null  int64  \n",
      " 15  Total_Trans_Ct            10127 non-null  int64  \n",
      "dtypes: float64(1), int64(9), object(6)\n",
      "memory usage: 1.2+ MB\n"
     ]
    }
   ],
   "source": [
    "df.info()"
   ]
  },
  {
   "cell_type": "markdown",
   "id": "6419a309",
   "metadata": {},
   "source": [
    "### NULL & Duplicate data"
   ]
  },
  {
   "cell_type": "code",
   "execution_count": 6,
   "id": "af043cb4",
   "metadata": {},
   "outputs": [
    {
     "data": {
      "text/plain": [
       "False    10127\n",
       "dtype: int64"
      ]
     },
     "execution_count": 6,
     "metadata": {},
     "output_type": "execute_result"
    }
   ],
   "source": [
    "df.isnull().any(axis=1).value_counts()"
   ]
  },
  {
   "cell_type": "code",
   "execution_count": 7,
   "id": "5bf6726b",
   "metadata": {},
   "outputs": [
    {
     "data": {
      "text/plain": [
       "False    10127\n",
       "dtype: int64"
      ]
     },
     "execution_count": 7,
     "metadata": {},
     "output_type": "execute_result"
    }
   ],
   "source": [
    "df.duplicated().value_counts()"
   ]
  },
  {
   "cell_type": "markdown",
   "id": "37439d1f",
   "metadata": {},
   "source": [
    "### Biased Data Analysis\n",
    "Before generating a model, is important to undertand all the variables. I'll check if exists a difference of proportion in some variables, if it happens, we could get a GIGO problem (Garbage In, Garbage Out).\n",
    "\n",
    "This is absolutely important because Machine Learning models helps people to make important decisions, and if the model has bias, it will be widespread in different areas on society!"
   ]
  },
  {
   "cell_type": "markdown",
   "id": "240c172c",
   "metadata": {},
   "source": [
    "Proportion of men and women:"
   ]
  },
  {
   "cell_type": "code",
   "execution_count": 8,
   "id": "2941dd98",
   "metadata": {},
   "outputs": [
    {
     "data": {
      "text/plain": [
       "F    52.908068\n",
       "M    47.091932\n",
       "Name: Gender, dtype: float64"
      ]
     },
     "execution_count": 8,
     "metadata": {},
     "output_type": "execute_result"
    }
   ],
   "source": [
    "df['Gender'].value_counts(normalize=True) * 100"
   ]
  },
  {
   "cell_type": "markdown",
   "id": "5bc7dd1b",
   "metadata": {},
   "source": [
    "There aren't relevant differences in this topic! Good one"
   ]
  },
  {
   "cell_type": "code",
   "execution_count": 9,
   "id": "a70231a2",
   "metadata": {},
   "outputs": [
    {
     "data": {
      "image/png": "[encoded data removed]",
      "text/plain": [
       "<Figure size 432x288 with 1 Axes>"
      ]
     },
     "metadata": {
      "needs_background": "light"
     },
     "output_type": "display_data"
    }
   ],
   "source": [
    "plt.boxplot(df['Customer_Age']);"
   ]
  },
  {
   "cell_type": "code",
   "execution_count": 10,
   "id": "e13589d4",
   "metadata": {},
   "outputs": [
    {
     "data": {
      "text/plain": [
       "Graduate         30.887726\n",
       "High School      19.877555\n",
       "Unknown          14.999506\n",
       "Uneducated       14.683519\n",
       "College          10.002962\n",
       "Post-Graduate     5.095290\n",
       "Doctorate         4.453441\n",
       "Name: Education_Level, dtype: float64"
      ]
     },
     "execution_count": 10,
     "metadata": {},
     "output_type": "execute_result"
    }
   ],
   "source": [
    "df['Education_Level'].value_counts(normalize=True) * 100"
   ]
  },
  {
   "cell_type": "code",
   "execution_count": 11,
   "id": "e4f65cd9",
   "metadata": {},
   "outputs": [
    {
     "data": {
      "text/plain": [
       "Married     46.282216\n",
       "Single      38.935519\n",
       "Unknown      7.396070\n",
       "Divorced     7.386195\n",
       "Name: Marital_Status, dtype: float64"
      ]
     },
     "execution_count": 11,
     "metadata": {},
     "output_type": "execute_result"
    }
   ],
   "source": [
    "df['Marital_Status'].value_counts(normalize=True) * 100"
   ]
  },
  {
   "cell_type": "code",
   "execution_count": 12,
   "id": "8febc324",
   "metadata": {},
   "outputs": [
    {
     "data": {
      "text/plain": [
       "Less than $40K    35.163425\n",
       "$40K - $60K       17.675521\n",
       "$80K - $120K      15.157500\n",
       "$60K - $80K       13.844179\n",
       "Unknown           10.980547\n",
       "$120K +            7.178829\n",
       "Name: Income_Category, dtype: float64"
      ]
     },
     "execution_count": 12,
     "metadata": {},
     "output_type": "execute_result"
    }
   ],
   "source": [
    "df['Income_Category'].value_counts(normalize=True) * 100"
   ]
  },
  {
   "cell_type": "code",
   "execution_count": 13,
   "id": "5e08d93f",
   "metadata": {},
   "outputs": [
    {
     "data": {
      "text/plain": [
       "Blue        93.176656\n",
       "Silver       5.480399\n",
       "Gold         1.145453\n",
       "Platinum     0.197492\n",
       "Name: Card_Category, dtype: float64"
      ]
     },
     "execution_count": 13,
     "metadata": {},
     "output_type": "execute_result"
    }
   ],
   "source": [
    "df['Card_Category'].value_counts(normalize=True) * 100"
   ]
  },
  {
   "cell_type": "markdown",
   "id": "a7d717ff",
   "metadata": {},
   "source": [
    "Here we have a clear problem, the 93% of the clients has a 'Blue' card, while the proportions of data on the other cards are under 5.5%!\n",
    "\n",
    "Why this is a problem? Maybe our model predicts that a client who has 'Blue' card has more probabilities to leave the bank, but that's just because there are more data of this type of clients!"
   ]
  },
  {
   "cell_type": "code",
   "execution_count": 14,
   "id": "a3452ef5",
   "metadata": {},
   "outputs": [],
   "source": [
    "df.rename(columns={'Attrition_Flag' : 'Target'}, inplace=True)"
   ]
  },
  {
   "cell_type": "code",
   "execution_count": 15,
   "id": "89c14764",
   "metadata": {},
   "outputs": [
    {
     "data": {
      "text/plain": [
       "Existing Customer    83.934038\n",
       "Attrited Customer    16.065962\n",
       "Name: Target, dtype: float64"
      ]
     },
     "execution_count": 15,
     "metadata": {},
     "output_type": "execute_result"
    }
   ],
   "source": [
    "(df['Target'].value_counts(normalize=True) * 100)"
   ]
  },
  {
   "cell_type": "markdown",
   "id": "d9494d55",
   "metadata": {},
   "source": [
    "Our target is unbalanced too. The model could have bias to determine if a client is attrited or not. We can manage this with _oversample_ or _undersample_ techniques."
   ]
  },
  {
   "cell_type": "markdown",
   "id": "f62296c4",
   "metadata": {},
   "source": [
    "### Managing categorical variables"
   ]
  },
  {
   "cell_type": "code",
   "execution_count": 16,
   "id": "9fb338af",
   "metadata": {},
   "outputs": [],
   "source": [
    "df['CLIENTNUM'] = df['CLIENTNUM'].astype('object')"
   ]
  },
  {
   "cell_type": "code",
   "execution_count": 17,
   "id": "653934f7",
   "metadata": {},
   "outputs": [
    {
     "data": {
      "text/html": [
       "<div>\n",
       "<style scoped>\n",
       "    .dataframe tbody tr th:only-of-type {\n",
       "        vertical-align: middle;\n",
       "    }\n",
       "\n",
       "    .dataframe tbody tr th {\n",
       "        vertical-align: top;\n",
       "    }\n",
       "\n",
       "    .dataframe thead th {\n",
       "        text-align: right;\n",
       "    }\n",
       "</style>\n",
       "<table border=\"1\" class=\"dataframe\">\n",
       "  <thead>\n",
       "    <tr style=\"text-align: right;\">\n",
       "      <th></th>\n",
       "      <th>Customer_Age</th>\n",
       "      <th>Dependent_count</th>\n",
       "      <th>Months_on_book</th>\n",
       "      <th>Total_Relationship_Count</th>\n",
       "      <th>Months_Inactive_12_mon</th>\n",
       "      <th>Credit_Limit</th>\n",
       "      <th>Total_Revolving_Bal</th>\n",
       "      <th>Total_Trans_Amt</th>\n",
       "      <th>Total_Trans_Ct</th>\n",
       "    </tr>\n",
       "  </thead>\n",
       "  <tbody>\n",
       "    <tr>\n",
       "      <th>count</th>\n",
       "      <td>10127.000000</td>\n",
       "      <td>10127.000000</td>\n",
       "      <td>10127.000000</td>\n",
       "      <td>10127.000000</td>\n",
       "      <td>10127.000000</td>\n",
       "      <td>10127.000000</td>\n",
       "      <td>10127.000000</td>\n",
       "      <td>10127.000000</td>\n",
       "      <td>10127.000000</td>\n",
       "    </tr>\n",
       "    <tr>\n",
       "      <th>mean</th>\n",
       "      <td>46.325960</td>\n",
       "      <td>2.346203</td>\n",
       "      <td>35.928409</td>\n",
       "      <td>3.812580</td>\n",
       "      <td>2.341167</td>\n",
       "      <td>8631.953698</td>\n",
       "      <td>1162.814061</td>\n",
       "      <td>4404.086304</td>\n",
       "      <td>64.858695</td>\n",
       "    </tr>\n",
       "    <tr>\n",
       "      <th>std</th>\n",
       "      <td>8.016814</td>\n",
       "      <td>1.298908</td>\n",
       "      <td>7.986416</td>\n",
       "      <td>1.554408</td>\n",
       "      <td>1.010622</td>\n",
       "      <td>9088.776650</td>\n",
       "      <td>814.987335</td>\n",
       "      <td>3397.129254</td>\n",
       "      <td>23.472570</td>\n",
       "    </tr>\n",
       "    <tr>\n",
       "      <th>min</th>\n",
       "      <td>26.000000</td>\n",
       "      <td>0.000000</td>\n",
       "      <td>13.000000</td>\n",
       "      <td>1.000000</td>\n",
       "      <td>0.000000</td>\n",
       "      <td>1438.300000</td>\n",
       "      <td>0.000000</td>\n",
       "      <td>510.000000</td>\n",
       "      <td>10.000000</td>\n",
       "    </tr>\n",
       "    <tr>\n",
       "      <th>25%</th>\n",
       "      <td>41.000000</td>\n",
       "      <td>1.000000</td>\n",
       "      <td>31.000000</td>\n",
       "      <td>3.000000</td>\n",
       "      <td>2.000000</td>\n",
       "      <td>2555.000000</td>\n",
       "      <td>359.000000</td>\n",
       "      <td>2155.500000</td>\n",
       "      <td>45.000000</td>\n",
       "    </tr>\n",
       "    <tr>\n",
       "      <th>50%</th>\n",
       "      <td>46.000000</td>\n",
       "      <td>2.000000</td>\n",
       "      <td>36.000000</td>\n",
       "      <td>4.000000</td>\n",
       "      <td>2.000000</td>\n",
       "      <td>4549.000000</td>\n",
       "      <td>1276.000000</td>\n",
       "      <td>3899.000000</td>\n",
       "      <td>67.000000</td>\n",
       "    </tr>\n",
       "    <tr>\n",
       "      <th>75%</th>\n",
       "      <td>52.000000</td>\n",
       "      <td>3.000000</td>\n",
       "      <td>40.000000</td>\n",
       "      <td>5.000000</td>\n",
       "      <td>3.000000</td>\n",
       "      <td>11067.500000</td>\n",
       "      <td>1784.000000</td>\n",
       "      <td>4741.000000</td>\n",
       "      <td>81.000000</td>\n",
       "    </tr>\n",
       "    <tr>\n",
       "      <th>max</th>\n",
       "      <td>73.000000</td>\n",
       "      <td>5.000000</td>\n",
       "      <td>56.000000</td>\n",
       "      <td>6.000000</td>\n",
       "      <td>6.000000</td>\n",
       "      <td>34516.000000</td>\n",
       "      <td>2517.000000</td>\n",
       "      <td>18484.000000</td>\n",
       "      <td>139.000000</td>\n",
       "    </tr>\n",
       "  </tbody>\n",
       "</table>\n",
       "</div>"
      ],
      "text/plain": [
       "       Customer_Age  Dependent_count  Months_on_book  \\\n",
       "count  10127.000000     10127.000000    10127.000000   \n",
       "mean      46.325960         2.346203       35.928409   \n",
       "std        8.016814         1.298908        7.986416   \n",
       "min       26.000000         0.000000       13.000000   \n",
       "25%       41.000000         1.000000       31.000000   \n",
       "50%       46.000000         2.000000       36.000000   \n",
       "75%       52.000000         3.000000       40.000000   \n",
       "max       73.000000         5.000000       56.000000   \n",
       "\n",
       "       Total_Relationship_Count  Months_Inactive_12_mon  Credit_Limit  \\\n",
       "count              10127.000000            10127.000000  10127.000000   \n",
       "mean                   3.812580                2.341167   8631.953698   \n",
       "std                    1.554408                1.010622   9088.776650   \n",
       "min                    1.000000                0.000000   1438.300000   \n",
       "25%                    3.000000                2.000000   2555.000000   \n",
       "50%                    4.000000                2.000000   4549.000000   \n",
       "75%                    5.000000                3.000000  11067.500000   \n",
       "max                    6.000000                6.000000  34516.000000   \n",
       "\n",
       "       Total_Revolving_Bal  Total_Trans_Amt  Total_Trans_Ct  \n",
       "count         10127.000000     10127.000000    10127.000000  \n",
       "mean           1162.814061      4404.086304       64.858695  \n",
       "std             814.987335      3397.129254       23.472570  \n",
       "min               0.000000       510.000000       10.000000  \n",
       "25%             359.000000      2155.500000       45.000000  \n",
       "50%            1276.000000      3899.000000       67.000000  \n",
       "75%            1784.000000      4741.000000       81.000000  \n",
       "max            2517.000000     18484.000000      139.000000  "
      ]
     },
     "execution_count": 17,
     "metadata": {},
     "output_type": "execute_result"
    }
   ],
   "source": [
    "df.describe()"
   ]
  },
  {
   "cell_type": "markdown",
   "id": "04dcad12",
   "metadata": {},
   "source": [
    "separating features and target:"
   ]
  },
  {
   "cell_type": "code",
   "execution_count": 18,
   "id": "8ba9a15a",
   "metadata": {},
   "outputs": [],
   "source": [
    "X = df.drop('Target', axis=1)\n",
    "y = df['Target']"
   ]
  },
  {
   "cell_type": "code",
   "execution_count": 19,
   "id": "7844d0b4",
   "metadata": {},
   "outputs": [
    {
     "data": {
      "text/plain": [
       "Gender                          2\n",
       "Marital_Status                  4\n",
       "Card_Category                   4\n",
       "Dependent_count                 6\n",
       "Income_Category                 6\n",
       "Total_Relationship_Count        6\n",
       "Education_Level                 7\n",
       "Months_Inactive_12_mon          7\n",
       "Months_on_book                 44\n",
       "Customer_Age                   45\n",
       "Total_Trans_Ct                126\n",
       "Total_Revolving_Bal          1974\n",
       "Total_Trans_Amt              5033\n",
       "Credit_Limit                 6205\n",
       "CLIENTNUM                   10127\n",
       "dtype: int64"
      ]
     },
     "execution_count": 19,
     "metadata": {},
     "output_type": "execute_result"
    }
   ],
   "source": [
    "X.nunique().sort_values()"
   ]
  },
  {
   "cell_type": "code",
   "execution_count": 20,
   "id": "554fc4dd",
   "metadata": {},
   "outputs": [],
   "source": [
    "categorical_nom = ['Gender', 'Marital_Status']\n",
    "categorical_ord = ['Income_Category', 'Education_Level', 'Card_Category']"
   ]
  },
  {
   "cell_type": "markdown",
   "id": "3ad14a72",
   "metadata": {},
   "source": [
    "working on nominal variables with _one-hot encoding_"
   ]
  },
  {
   "cell_type": "code",
   "execution_count": 21,
   "id": "0e1fb45f",
   "metadata": {},
   "outputs": [
    {
     "data": {
      "text/html": [
       "<div>\n",
       "<style scoped>\n",
       "    .dataframe tbody tr th:only-of-type {\n",
       "        vertical-align: middle;\n",
       "    }\n",
       "\n",
       "    .dataframe tbody tr th {\n",
       "        vertical-align: top;\n",
       "    }\n",
       "\n",
       "    .dataframe thead th {\n",
       "        text-align: right;\n",
       "    }\n",
       "</style>\n",
       "<table border=\"1\" class=\"dataframe\">\n",
       "  <thead>\n",
       "    <tr style=\"text-align: right;\">\n",
       "      <th></th>\n",
       "      <th>CLIENTNUM</th>\n",
       "      <th>Customer_Age</th>\n",
       "      <th>Dependent_count</th>\n",
       "      <th>Education_Level</th>\n",
       "      <th>Income_Category</th>\n",
       "      <th>Card_Category</th>\n",
       "      <th>Months_on_book</th>\n",
       "      <th>Total_Relationship_Count</th>\n",
       "      <th>Months_Inactive_12_mon</th>\n",
       "      <th>Credit_Limit</th>\n",
       "      <th>Total_Revolving_Bal</th>\n",
       "      <th>Total_Trans_Amt</th>\n",
       "      <th>Total_Trans_Ct</th>\n",
       "      <th>gender_F</th>\n",
       "      <th>gender_M</th>\n",
       "      <th>marital_Divorced</th>\n",
       "      <th>marital_Married</th>\n",
       "      <th>marital_Single</th>\n",
       "      <th>marital_Unknown</th>\n",
       "    </tr>\n",
       "  </thead>\n",
       "  <tbody>\n",
       "    <tr>\n",
       "      <th>0</th>\n",
       "      <td>768805383</td>\n",
       "      <td>45</td>\n",
       "      <td>3</td>\n",
       "      <td>High School</td>\n",
       "      <td>$60K - $80K</td>\n",
       "      <td>Blue</td>\n",
       "      <td>39</td>\n",
       "      <td>5</td>\n",
       "      <td>1</td>\n",
       "      <td>12691.0</td>\n",
       "      <td>777</td>\n",
       "      <td>1144</td>\n",
       "      <td>42</td>\n",
       "      <td>0</td>\n",
       "      <td>1</td>\n",
       "      <td>0</td>\n",
       "      <td>1</td>\n",
       "      <td>0</td>\n",
       "      <td>0</td>\n",
       "    </tr>\n",
       "    <tr>\n",
       "      <th>1</th>\n",
       "      <td>818770008</td>\n",
       "      <td>49</td>\n",
       "      <td>5</td>\n",
       "      <td>Graduate</td>\n",
       "      <td>Less than $40K</td>\n",
       "      <td>Blue</td>\n",
       "      <td>44</td>\n",
       "      <td>6</td>\n",
       "      <td>1</td>\n",
       "      <td>8256.0</td>\n",
       "      <td>864</td>\n",
       "      <td>1291</td>\n",
       "      <td>33</td>\n",
       "      <td>1</td>\n",
       "      <td>0</td>\n",
       "      <td>0</td>\n",
       "      <td>0</td>\n",
       "      <td>1</td>\n",
       "      <td>0</td>\n",
       "    </tr>\n",
       "  </tbody>\n",
       "</table>\n",
       "</div>"
      ],
      "text/plain": [
       "   CLIENTNUM  Customer_Age  Dependent_count Education_Level Income_Category  \\\n",
       "0  768805383            45                3     High School     $60K - $80K   \n",
       "1  818770008            49                5        Graduate  Less than $40K   \n",
       "\n",
       "  Card_Category  Months_on_book  Total_Relationship_Count  \\\n",
       "0          Blue              39                         5   \n",
       "1          Blue              44                         6   \n",
       "\n",
       "   Months_Inactive_12_mon  Credit_Limit  Total_Revolving_Bal  Total_Trans_Amt  \\\n",
       "0                       1       12691.0                  777             1144   \n",
       "1                       1        8256.0                  864             1291   \n",
       "\n",
       "   Total_Trans_Ct  gender_F  gender_M  marital_Divorced  marital_Married  \\\n",
       "0              42         0         1                 0                1   \n",
       "1              33         1         0                 0                0   \n",
       "\n",
       "   marital_Single  marital_Unknown  \n",
       "0               0                0  \n",
       "1               1                0  "
      ]
     },
     "execution_count": 21,
     "metadata": {},
     "output_type": "execute_result"
    }
   ],
   "source": [
    "X_encoded = pd.get_dummies(X, prefix=['gender', 'marital'], columns=categorical_nom)\n",
    "X_encoded.head(2)"
   ]
  },
  {
   "cell_type": "markdown",
   "id": "7464a356",
   "metadata": {},
   "source": [
    "transforming ordinal variables to numeric"
   ]
  },
  {
   "cell_type": "code",
   "execution_count": 22,
   "id": "470c7d1c",
   "metadata": {},
   "outputs": [
    {
     "data": {
      "text/plain": [
       "array(['High School', 'Graduate', 'Uneducated', 'Unknown', 'College',\n",
       "       'Post-Graduate', 'Doctorate'], dtype=object)"
      ]
     },
     "execution_count": 22,
     "metadata": {},
     "output_type": "execute_result"
    }
   ],
   "source": [
    "X_encoded[categorical_ord]['Education_Level'].unique()"
   ]
  },
  {
   "cell_type": "code",
   "execution_count": 23,
   "id": "6617d381",
   "metadata": {},
   "outputs": [],
   "source": [
    "income_dict = {'Unknown' : 0,\n",
    "               'Less than $40K' : 1,\n",
    "               '$40K - $60K' : 2,\n",
    "               '$60K - $80K' : 3,\n",
    "               '$80K - $120K' : 4,\n",
    "               '$120K +' : 5\n",
    "              }\n",
    "\n",
    "education_dict = {'Unknown' : 0,\n",
    "                  'Uneducated' : 1,\n",
    "                  'High School' : 2,\n",
    "                  'College' : 3,\n",
    "                  'Graduate' : 4,\n",
    "                  'Post-Graduate' : 5,\n",
    "                  'Doctorate' : 6\n",
    "                 }\n",
    "\n",
    "card_dict = {'Blue' : 1,\n",
    "             'Silver' : 2,\n",
    "             'Gold' : 3,\n",
    "             'Platinum' : 4\n",
    "            }"
   ]
  },
  {
   "cell_type": "code",
   "execution_count": 24,
   "id": "19ab18eb",
   "metadata": {},
   "outputs": [],
   "source": [
    "X_encoded['Income_Category'] = X_encoded['Income_Category'].map(income_dict)\n",
    "X_encoded['Education_Level'] = X_encoded['Education_Level'].map(education_dict)\n",
    "X_encoded['Card_Category'] = X_encoded['Card_Category'].map(card_dict)"
   ]
  },
  {
   "cell_type": "markdown",
   "id": "f32467ce",
   "metadata": {},
   "source": [
    "And then, we get all features database with numeric values"
   ]
  },
  {
   "cell_type": "code",
   "execution_count": 25,
   "id": "b87245f8",
   "metadata": {},
   "outputs": [
    {
     "data": {
      "text/html": [
       "<div>\n",
       "<style scoped>\n",
       "    .dataframe tbody tr th:only-of-type {\n",
       "        vertical-align: middle;\n",
       "    }\n",
       "\n",
       "    .dataframe tbody tr th {\n",
       "        vertical-align: top;\n",
       "    }\n",
       "\n",
       "    .dataframe thead th {\n",
       "        text-align: right;\n",
       "    }\n",
       "</style>\n",
       "<table border=\"1\" class=\"dataframe\">\n",
       "  <thead>\n",
       "    <tr style=\"text-align: right;\">\n",
       "      <th></th>\n",
       "      <th>CLIENTNUM</th>\n",
       "      <th>Customer_Age</th>\n",
       "      <th>Dependent_count</th>\n",
       "      <th>Education_Level</th>\n",
       "      <th>Income_Category</th>\n",
       "      <th>Card_Category</th>\n",
       "      <th>Months_on_book</th>\n",
       "      <th>Total_Relationship_Count</th>\n",
       "      <th>Months_Inactive_12_mon</th>\n",
       "      <th>Credit_Limit</th>\n",
       "      <th>Total_Revolving_Bal</th>\n",
       "      <th>Total_Trans_Amt</th>\n",
       "      <th>Total_Trans_Ct</th>\n",
       "      <th>gender_F</th>\n",
       "      <th>gender_M</th>\n",
       "      <th>marital_Divorced</th>\n",
       "      <th>marital_Married</th>\n",
       "      <th>marital_Single</th>\n",
       "      <th>marital_Unknown</th>\n",
       "    </tr>\n",
       "  </thead>\n",
       "  <tbody>\n",
       "    <tr>\n",
       "      <th>0</th>\n",
       "      <td>768805383</td>\n",
       "      <td>45</td>\n",
       "      <td>3</td>\n",
       "      <td>2</td>\n",
       "      <td>3</td>\n",
       "      <td>1</td>\n",
       "      <td>39</td>\n",
       "      <td>5</td>\n",
       "      <td>1</td>\n",
       "      <td>12691.0</td>\n",
       "      <td>777</td>\n",
       "      <td>1144</td>\n",
       "      <td>42</td>\n",
       "      <td>0</td>\n",
       "      <td>1</td>\n",
       "      <td>0</td>\n",
       "      <td>1</td>\n",
       "      <td>0</td>\n",
       "      <td>0</td>\n",
       "    </tr>\n",
       "    <tr>\n",
       "      <th>1</th>\n",
       "      <td>818770008</td>\n",
       "      <td>49</td>\n",
       "      <td>5</td>\n",
       "      <td>4</td>\n",
       "      <td>1</td>\n",
       "      <td>1</td>\n",
       "      <td>44</td>\n",
       "      <td>6</td>\n",
       "      <td>1</td>\n",
       "      <td>8256.0</td>\n",
       "      <td>864</td>\n",
       "      <td>1291</td>\n",
       "      <td>33</td>\n",
       "      <td>1</td>\n",
       "      <td>0</td>\n",
       "      <td>0</td>\n",
       "      <td>0</td>\n",
       "      <td>1</td>\n",
       "      <td>0</td>\n",
       "    </tr>\n",
       "    <tr>\n",
       "      <th>2</th>\n",
       "      <td>713982108</td>\n",
       "      <td>51</td>\n",
       "      <td>3</td>\n",
       "      <td>4</td>\n",
       "      <td>4</td>\n",
       "      <td>1</td>\n",
       "      <td>36</td>\n",
       "      <td>4</td>\n",
       "      <td>1</td>\n",
       "      <td>3418.0</td>\n",
       "      <td>0</td>\n",
       "      <td>1887</td>\n",
       "      <td>20</td>\n",
       "      <td>0</td>\n",
       "      <td>1</td>\n",
       "      <td>0</td>\n",
       "      <td>1</td>\n",
       "      <td>0</td>\n",
       "      <td>0</td>\n",
       "    </tr>\n",
       "    <tr>\n",
       "      <th>3</th>\n",
       "      <td>769911858</td>\n",
       "      <td>40</td>\n",
       "      <td>4</td>\n",
       "      <td>2</td>\n",
       "      <td>1</td>\n",
       "      <td>1</td>\n",
       "      <td>34</td>\n",
       "      <td>3</td>\n",
       "      <td>4</td>\n",
       "      <td>3313.0</td>\n",
       "      <td>2517</td>\n",
       "      <td>1171</td>\n",
       "      <td>20</td>\n",
       "      <td>1</td>\n",
       "      <td>0</td>\n",
       "      <td>0</td>\n",
       "      <td>0</td>\n",
       "      <td>0</td>\n",
       "      <td>1</td>\n",
       "    </tr>\n",
       "    <tr>\n",
       "      <th>4</th>\n",
       "      <td>709106358</td>\n",
       "      <td>40</td>\n",
       "      <td>3</td>\n",
       "      <td>1</td>\n",
       "      <td>3</td>\n",
       "      <td>1</td>\n",
       "      <td>21</td>\n",
       "      <td>5</td>\n",
       "      <td>1</td>\n",
       "      <td>4716.0</td>\n",
       "      <td>0</td>\n",
       "      <td>816</td>\n",
       "      <td>28</td>\n",
       "      <td>0</td>\n",
       "      <td>1</td>\n",
       "      <td>0</td>\n",
       "      <td>1</td>\n",
       "      <td>0</td>\n",
       "      <td>0</td>\n",
       "    </tr>\n",
       "  </tbody>\n",
       "</table>\n",
       "</div>"
      ],
      "text/plain": [
       "   CLIENTNUM  Customer_Age  Dependent_count  Education_Level  Income_Category  \\\n",
       "0  768805383            45                3                2                3   \n",
       "1  818770008            49                5                4                1   \n",
       "2  713982108            51                3                4                4   \n",
       "3  769911858            40                4                2                1   \n",
       "4  709106358            40                3                1                3   \n",
       "\n",
       "   Card_Category  Months_on_book  Total_Relationship_Count  \\\n",
       "0              1              39                         5   \n",
       "1              1              44                         6   \n",
       "2              1              36                         4   \n",
       "3              1              34                         3   \n",
       "4              1              21                         5   \n",
       "\n",
       "   Months_Inactive_12_mon  Credit_Limit  Total_Revolving_Bal  Total_Trans_Amt  \\\n",
       "0                       1       12691.0                  777             1144   \n",
       "1                       1        8256.0                  864             1291   \n",
       "2                       1        3418.0                    0             1887   \n",
       "3                       4        3313.0                 2517             1171   \n",
       "4                       1        4716.0                    0              816   \n",
       "\n",
       "   Total_Trans_Ct  gender_F  gender_M  marital_Divorced  marital_Married  \\\n",
       "0              42         0         1                 0                1   \n",
       "1              33         1         0                 0                0   \n",
       "2              20         0         1                 0                1   \n",
       "3              20         1         0                 0                0   \n",
       "4              28         0         1                 0                1   \n",
       "\n",
       "   marital_Single  marital_Unknown  \n",
       "0               0                0  \n",
       "1               1                0  \n",
       "2               0                0  \n",
       "3               0                1  \n",
       "4               0                0  "
      ]
     },
     "execution_count": 25,
     "metadata": {},
     "output_type": "execute_result"
    }
   ],
   "source": [
    "X_encoded.head()"
   ]
  },
  {
   "cell_type": "code",
   "execution_count": 26,
   "id": "82b33b91",
   "metadata": {},
   "outputs": [],
   "source": [
    "target_dict = {'Attrited Customer' : 0,\n",
    "               'Existing Customer' : 1\n",
    "              }\n",
    "\n",
    "y = y.map(target_dict)"
   ]
  },
  {
   "cell_type": "code",
   "execution_count": 27,
   "id": "b4070a52",
   "metadata": {},
   "outputs": [
    {
     "data": {
      "text/plain": [
       "0        1\n",
       "1        1\n",
       "2        1\n",
       "3        1\n",
       "4        1\n",
       "        ..\n",
       "10122    1\n",
       "10123    0\n",
       "10124    0\n",
       "10125    0\n",
       "10126    0\n",
       "Name: Target, Length: 10127, dtype: int64"
      ]
     },
     "execution_count": 27,
     "metadata": {},
     "output_type": "execute_result"
    }
   ],
   "source": [
    "y"
   ]
  },
  {
   "cell_type": "markdown",
   "id": "213b367b",
   "metadata": {},
   "source": [
    "____________"
   ]
  },
  {
   "cell_type": "markdown",
   "id": "d91ef719",
   "metadata": {},
   "source": [
    "### Saving"
   ]
  },
  {
   "cell_type": "code",
   "execution_count": 28,
   "id": "f86ebc78",
   "metadata": {},
   "outputs": [],
   "source": [
    "target = pd.DataFrame(y)"
   ]
  },
  {
   "cell_type": "code",
   "execution_count": 29,
   "id": "96b5f03b",
   "metadata": {},
   "outputs": [],
   "source": [
    "df_cleaned = pd.concat([X_encoded, target], axis=1)"
   ]
  },
  {
   "cell_type": "code",
   "execution_count": 30,
   "id": "e2c11efc",
   "metadata": {},
   "outputs": [
    {
     "data": {
      "text/html": [
       "<div>\n",
       "<style scoped>\n",
       "    .dataframe tbody tr th:only-of-type {\n",
       "        vertical-align: middle;\n",
       "    }\n",
       "\n",
       "    .dataframe tbody tr th {\n",
       "        vertical-align: top;\n",
       "    }\n",
       "\n",
       "    .dataframe thead th {\n",
       "        text-align: right;\n",
       "    }\n",
       "</style>\n",
       "<table border=\"1\" class=\"dataframe\">\n",
       "  <thead>\n",
       "    <tr style=\"text-align: right;\">\n",
       "      <th></th>\n",
       "      <th>CLIENTNUM</th>\n",
       "      <th>Customer_Age</th>\n",
       "      <th>Dependent_count</th>\n",
       "      <th>Education_Level</th>\n",
       "      <th>Income_Category</th>\n",
       "      <th>Card_Category</th>\n",
       "      <th>Months_on_book</th>\n",
       "      <th>Total_Relationship_Count</th>\n",
       "      <th>Months_Inactive_12_mon</th>\n",
       "      <th>Credit_Limit</th>\n",
       "      <th>Total_Revolving_Bal</th>\n",
       "      <th>Total_Trans_Amt</th>\n",
       "      <th>Total_Trans_Ct</th>\n",
       "      <th>gender_F</th>\n",
       "      <th>gender_M</th>\n",
       "      <th>marital_Divorced</th>\n",
       "      <th>marital_Married</th>\n",
       "      <th>marital_Single</th>\n",
       "      <th>marital_Unknown</th>\n",
       "      <th>Target</th>\n",
       "    </tr>\n",
       "  </thead>\n",
       "  <tbody>\n",
       "    <tr>\n",
       "      <th>0</th>\n",
       "      <td>768805383</td>\n",
       "      <td>45</td>\n",
       "      <td>3</td>\n",
       "      <td>2</td>\n",
       "      <td>3</td>\n",
       "      <td>1</td>\n",
       "      <td>39</td>\n",
       "      <td>5</td>\n",
       "      <td>1</td>\n",
       "      <td>12691.0</td>\n",
       "      <td>777</td>\n",
       "      <td>1144</td>\n",
       "      <td>42</td>\n",
       "      <td>0</td>\n",
       "      <td>1</td>\n",
       "      <td>0</td>\n",
       "      <td>1</td>\n",
       "      <td>0</td>\n",
       "      <td>0</td>\n",
       "      <td>1</td>\n",
       "    </tr>\n",
       "    <tr>\n",
       "      <th>1</th>\n",
       "      <td>818770008</td>\n",
       "      <td>49</td>\n",
       "      <td>5</td>\n",
       "      <td>4</td>\n",
       "      <td>1</td>\n",
       "      <td>1</td>\n",
       "      <td>44</td>\n",
       "      <td>6</td>\n",
       "      <td>1</td>\n",
       "      <td>8256.0</td>\n",
       "      <td>864</td>\n",
       "      <td>1291</td>\n",
       "      <td>33</td>\n",
       "      <td>1</td>\n",
       "      <td>0</td>\n",
       "      <td>0</td>\n",
       "      <td>0</td>\n",
       "      <td>1</td>\n",
       "      <td>0</td>\n",
       "      <td>1</td>\n",
       "    </tr>\n",
       "    <tr>\n",
       "      <th>2</th>\n",
       "      <td>713982108</td>\n",
       "      <td>51</td>\n",
       "      <td>3</td>\n",
       "      <td>4</td>\n",
       "      <td>4</td>\n",
       "      <td>1</td>\n",
       "      <td>36</td>\n",
       "      <td>4</td>\n",
       "      <td>1</td>\n",
       "      <td>3418.0</td>\n",
       "      <td>0</td>\n",
       "      <td>1887</td>\n",
       "      <td>20</td>\n",
       "      <td>0</td>\n",
       "      <td>1</td>\n",
       "      <td>0</td>\n",
       "      <td>1</td>\n",
       "      <td>0</td>\n",
       "      <td>0</td>\n",
       "      <td>1</td>\n",
       "    </tr>\n",
       "    <tr>\n",
       "      <th>3</th>\n",
       "      <td>769911858</td>\n",
       "      <td>40</td>\n",
       "      <td>4</td>\n",
       "      <td>2</td>\n",
       "      <td>1</td>\n",
       "      <td>1</td>\n",
       "      <td>34</td>\n",
       "      <td>3</td>\n",
       "      <td>4</td>\n",
       "      <td>3313.0</td>\n",
       "      <td>2517</td>\n",
       "      <td>1171</td>\n",
       "      <td>20</td>\n",
       "      <td>1</td>\n",
       "      <td>0</td>\n",
       "      <td>0</td>\n",
       "      <td>0</td>\n",
       "      <td>0</td>\n",
       "      <td>1</td>\n",
       "      <td>1</td>\n",
       "    </tr>\n",
       "    <tr>\n",
       "      <th>4</th>\n",
       "      <td>709106358</td>\n",
       "      <td>40</td>\n",
       "      <td>3</td>\n",
       "      <td>1</td>\n",
       "      <td>3</td>\n",
       "      <td>1</td>\n",
       "      <td>21</td>\n",
       "      <td>5</td>\n",
       "      <td>1</td>\n",
       "      <td>4716.0</td>\n",
       "      <td>0</td>\n",
       "      <td>816</td>\n",
       "      <td>28</td>\n",
       "      <td>0</td>\n",
       "      <td>1</td>\n",
       "      <td>0</td>\n",
       "      <td>1</td>\n",
       "      <td>0</td>\n",
       "      <td>0</td>\n",
       "      <td>1</td>\n",
       "    </tr>\n",
       "  </tbody>\n",
       "</table>\n",
       "</div>"
      ],
      "text/plain": [
       "   CLIENTNUM  Customer_Age  Dependent_count  Education_Level  Income_Category  \\\n",
       "0  768805383            45                3                2                3   \n",
       "1  818770008            49                5                4                1   \n",
       "2  713982108            51                3                4                4   \n",
       "3  769911858            40                4                2                1   \n",
       "4  709106358            40                3                1                3   \n",
       "\n",
       "   Card_Category  Months_on_book  Total_Relationship_Count  \\\n",
       "0              1              39                         5   \n",
       "1              1              44                         6   \n",
       "2              1              36                         4   \n",
       "3              1              34                         3   \n",
       "4              1              21                         5   \n",
       "\n",
       "   Months_Inactive_12_mon  Credit_Limit  Total_Revolving_Bal  Total_Trans_Amt  \\\n",
       "0                       1       12691.0                  777             1144   \n",
       "1                       1        8256.0                  864             1291   \n",
       "2                       1        3418.0                    0             1887   \n",
       "3                       4        3313.0                 2517             1171   \n",
       "4                       1        4716.0                    0              816   \n",
       "\n",
       "   Total_Trans_Ct  gender_F  gender_M  marital_Divorced  marital_Married  \\\n",
       "0              42         0         1                 0                1   \n",
       "1              33         1         0                 0                0   \n",
       "2              20         0         1                 0                1   \n",
       "3              20         1         0                 0                0   \n",
       "4              28         0         1                 0                1   \n",
       "\n",
       "   marital_Single  marital_Unknown  Target  \n",
       "0               0                0       1  \n",
       "1               1                0       1  \n",
       "2               0                0       1  \n",
       "3               0                1       1  \n",
       "4               0                0       1  "
      ]
     },
     "execution_count": 30,
     "metadata": {},
     "output_type": "execute_result"
    }
   ],
   "source": [
    "df_cleaned.head()"
   ]
  },
  {
   "cell_type": "code",
   "execution_count": 31,
   "id": "2bae6a9a",
   "metadata": {},
   "outputs": [],
   "source": [
    "df_cleaned.to_csv(dir_in.format('data_processed.csv'), sep=',', index=False)"
   ]
  }
 ],
 "metadata": {
  "kernelspec": {
   "display_name": "Python 3",
   "language": "python",
   "name": "python3"
  },
  "language_info": {
   "codemirror_mode": {
    "name": "ipython",
    "version": 3
   },
   "file_extension": ".py",
   "mimetype": "text/x-python",
   "name": "python",
   "nbconvert_exporter": "python",
   "pygments_lexer": "ipython3",
   "version": "3.8.8"
  }
 },
 "nbformat": 4,
 "nbformat_minor": 5
}
